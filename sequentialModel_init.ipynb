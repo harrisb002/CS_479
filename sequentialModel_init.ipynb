{
  "cells": [
    {
      "cell_type": "markdown",
      "metadata": {
        "id": "view-in-github",
        "colab_type": "text"
      },
      "source": [
        "<a href=\"https://colab.research.google.com/github/harrisb002/CS_479/blob/Labs/sequentialModel_init.ipynb\" target=\"_parent\"><img src=\"https://colab.research.google.com/assets/colab-badge.svg\" alt=\"Open In Colab\"/></a>"
      ]
    },
    {
      "cell_type": "code",
      "execution_count": null,
      "id": "25051801",
      "metadata": {
        "id": "25051801"
      },
      "outputs": [],
      "source": [
        "import tensorflow as tf\n",
        "from tensorflow.keras.models import Sequential\n",
        "from tensorflow.keras.layers import Dense, Flatten, Softmax\n",
        "from tensorflow.keras.utils import plot_model\n"
      ]
    },
    {
      "cell_type": "markdown",
      "id": "843a2e43",
      "metadata": {
        "id": "843a2e43"
      },
      "source": [
        "## Sequential models\n",
        "Create an instance of Sequential class which will be a feedforward network with a single hidden layer.\n",
        "\n",
        "The hidden layer is fully connected and contains 64 units and output layer contains 10 units. That is implemented using the `Dense` layer. The first layer is given the size of the input data using the keyword `input_shape`."
      ]
    },
    {
      "cell_type": "code",
      "execution_count": null,
      "id": "c75ed549",
      "metadata": {
        "id": "c75ed549"
      },
      "outputs": [],
      "source": [
        "#by default, activation is linear\n",
        "model = Sequential([\n",
        "    Dense(64, activation = 'relu', input_shape = (784,)),\n",
        "    Dense(10, activation = 'softmax', name = 'awesome_output_layer')\n",
        "]\n",
        ")"
      ]
    },
    {
      "cell_type": "code",
      "execution_count": null,
      "id": "a5ccad24",
      "metadata": {
        "id": "a5ccad24"
      },
      "outputs": [],
      "source": [
        "#If the input is coming as an image, we can use a flatten layer\n",
        "model1 = Sequential([\n",
        "    Flatten(input_shape=(28,28)),\n",
        "    Dense(64, activation = 'relu'),\n",
        "    Dense(10, activation = 'softmax')\n",
        "]\n",
        ")"
      ]
    },
    {
      "cell_type": "markdown",
      "id": "75a6ad35",
      "metadata": {
        "id": "75a6ad35"
      },
      "source": [
        "Print the architecture of the network using the `summary()` method"
      ]
    },
    {
      "cell_type": "code",
      "execution_count": null,
      "id": "5deb0ebf",
      "metadata": {
        "colab": {
          "base_uri": "https://localhost:8080/"
        },
        "id": "5deb0ebf",
        "outputId": "c32808d8-25ec-4f8c-e8c2-cfbc2439a2e6"
      },
      "outputs": [
        {
          "output_type": "stream",
          "name": "stdout",
          "text": [
            "Model: \"sequential\"\n",
            "_________________________________________________________________\n",
            " Layer (type)                Output Shape              Param #   \n",
            "=================================================================\n",
            " dense (Dense)               (None, 64)                50240     \n",
            "                                                                 \n",
            " awesome_output_layer (Dens  (None, 10)                650       \n",
            " e)                                                              \n",
            "                                                                 \n",
            "=================================================================\n",
            "Total params: 50890 (198.79 KB)\n",
            "Trainable params: 50890 (198.79 KB)\n",
            "Non-trainable params: 0 (0.00 Byte)\n",
            "_________________________________________________________________\n"
          ]
        }
      ],
      "source": [
        "model.summary()"
      ]
    },
    {
      "cell_type": "code",
      "source": [],
      "metadata": {
        "id": "n9-OMJu1qbs2"
      },
      "id": "n9-OMJu1qbs2",
      "execution_count": null,
      "outputs": []
    },
    {
      "cell_type": "code",
      "execution_count": null,
      "id": "56b1e236",
      "metadata": {
        "colab": {
          "base_uri": "https://localhost:8080/"
        },
        "id": "56b1e236",
        "outputId": "fb3334bf-afab-4bad-86f7-4db5104e4bbe"
      },
      "outputs": [
        {
          "output_type": "stream",
          "name": "stdout",
          "text": [
            "Model: \"sequential_1\"\n",
            "_________________________________________________________________\n",
            " Layer (type)                Output Shape              Param #   \n",
            "=================================================================\n",
            " flatten (Flatten)           (None, 784)               0         \n",
            "                                                                 \n",
            " dense_1 (Dense)             (None, 64)                50240     \n",
            "                                                                 \n",
            " dense_2 (Dense)             (None, 10)                650       \n",
            "                                                                 \n",
            "=================================================================\n",
            "Total params: 50890 (198.79 KB)\n",
            "Trainable params: 50890 (198.79 KB)\n",
            "Non-trainable params: 0 (0.00 Byte)\n",
            "_________________________________________________________________\n"
          ]
        }
      ],
      "source": [
        "model1.summary()"
      ]
    },
    {
      "cell_type": "code",
      "execution_count": null,
      "id": "a7f19e3c",
      "metadata": {
        "colab": {
          "base_uri": "https://localhost:8080/",
          "height": 312
        },
        "id": "a7f19e3c",
        "outputId": "d19f3d20-7957-4288-c1c3-06d9025828cb"
      },
      "outputs": [
        {
          "output_type": "execute_result",
          "data": {
            "image/png": "[encoded data removed]",
            "text/plain": [
              "<IPython.core.display.Image object>"
            ]
          },
          "metadata": {},
          "execution_count": 6
        }
      ],
      "source": [
        "plot_model(model, show_shapes=True)"
      ]
    },
    {
      "cell_type": "markdown",
      "id": "47cbb44b",
      "metadata": {
        "id": "47cbb44b"
      },
      "source": [
        "The weights of the network are stored in the `weights` attribute"
      ]
    },
    {
      "cell_type": "code",
      "execution_count": null,
      "id": "2a7e04c3",
      "metadata": {
        "colab": {
          "base_uri": "https://localhost:8080/"
        },
        "id": "2a7e04c3",
        "outputId": "5574b635-de01-4e62-f2d8-08b826b4823b"
      },
      "outputs": [
        {
          "output_type": "execute_result",
          "data": {
            "text/plain": [
              "[<tf.Variable 'dense/kernel:0' shape=(784, 64) dtype=float32, numpy=\n",
              " array([[ 0.01558465,  0.02182862, -0.0727654 , ..., -0.00770108,\n",
              "          0.07561966, -0.02944306],\n",
              "        [ 0.04884223,  0.05386115,  0.04191358, ..., -0.0183517 ,\n",
              "          0.08161204, -0.07170246],\n",
              "        [ 0.00457682, -0.07838877, -0.02668739, ...,  0.01706789,\n",
              "          0.03023803,  0.01666195],\n",
              "        ...,\n",
              "        [-0.03954256,  0.01738139,  0.07964312, ...,  0.07901848,\n",
              "          0.0309589 , -0.04588785],\n",
              "        [ 0.00236572, -0.04384949, -0.05108202, ..., -0.05708726,\n",
              "         -0.01277266, -0.07144141],\n",
              "        [ 0.0403909 , -0.00155701, -0.07640228, ...,  0.06131699,\n",
              "          0.04410756,  0.05280202]], dtype=float32)>,\n",
              " <tf.Variable 'dense/bias:0' shape=(64,) dtype=float32, numpy=\n",
              " array([0., 0., 0., 0., 0., 0., 0., 0., 0., 0., 0., 0., 0., 0., 0., 0., 0.,\n",
              "        0., 0., 0., 0., 0., 0., 0., 0., 0., 0., 0., 0., 0., 0., 0., 0., 0.,\n",
              "        0., 0., 0., 0., 0., 0., 0., 0., 0., 0., 0., 0., 0., 0., 0., 0., 0.,\n",
              "        0., 0., 0., 0., 0., 0., 0., 0., 0., 0., 0., 0., 0.], dtype=float32)>,\n",
              " <tf.Variable 'awesome_output_layer/kernel:0' shape=(64, 10) dtype=float32, numpy=\n",
              " array([[-4.89431918e-02, -1.10524625e-01, -1.57981396e-01,\n",
              "          4.23219800e-03,  1.40945524e-01, -1.22971818e-01,\n",
              "         -2.42328063e-01, -2.20128745e-01, -2.57852465e-01,\n",
              "          2.69440711e-02],\n",
              "        [ 2.45926291e-01,  5.59872985e-02,  2.72675961e-01,\n",
              "          2.51470774e-01, -2.07439333e-01,  1.22494400e-02,\n",
              "          2.76453644e-01, -1.41155496e-01,  2.77083009e-01,\n",
              "         -1.68675616e-01],\n",
              "        [ 2.07925618e-01,  2.75318772e-01,  1.63596094e-01,\n",
              "         -2.60564417e-01, -2.31561810e-01,  6.93025291e-02,\n",
              "         -2.02926069e-01, -7.82940239e-02, -7.07464516e-02,\n",
              "         -1.52857065e-01],\n",
              "        [ 2.19024509e-01,  1.08647823e-01,  1.57037944e-01,\n",
              "          1.89333051e-01,  1.00079477e-02,  8.62883031e-02,\n",
              "         -5.70486039e-02, -1.73204422e-01, -1.89018637e-01,\n",
              "         -1.37361988e-01],\n",
              "        [ 1.71285003e-01, -1.06596082e-01, -8.74738395e-02,\n",
              "         -2.80125767e-01, -1.19657680e-01,  1.29738986e-01,\n",
              "         -7.68687576e-02,  1.45140320e-01,  2.18423754e-01,\n",
              "          8.51717293e-02],\n",
              "        [-4.42071259e-02, -2.41240278e-01, -1.24204278e-01,\n",
              "          6.06216788e-02, -2.35254228e-01, -1.76071852e-01,\n",
              "          2.34699279e-01, -1.75460309e-01,  1.94462538e-01,\n",
              "          1.39881283e-01],\n",
              "        [ 1.35580391e-01,  1.56875223e-01, -6.69077933e-02,\n",
              "          2.56451756e-01, -3.48579139e-02, -2.31922224e-01,\n",
              "         -1.89685047e-01, -3.14566791e-02,  2.53169805e-01,\n",
              "          2.53586501e-01],\n",
              "        [ 1.33481801e-01,  2.30120033e-01, -1.07732013e-01,\n",
              "         -1.30633712e-01, -2.33839750e-02, -1.79046631e-01,\n",
              "          3.60416174e-02, -8.46549571e-02, -1.41641587e-01,\n",
              "          2.35651642e-01],\n",
              "        [ 2.12316811e-01,  7.46643841e-02,  1.28805339e-02,\n",
              "          1.60501510e-01,  1.35348737e-01, -2.65796214e-01,\n",
              "         -2.35232025e-01,  2.57805973e-01,  2.67713100e-01,\n",
              "         -5.18891066e-02],\n",
              "        [ 2.63741165e-01,  6.39501214e-03, -2.15303928e-01,\n",
              "          1.48142368e-01, -6.59169555e-02, -2.76208520e-01,\n",
              "          1.10576212e-01,  4.97432053e-02, -1.52416527e-01,\n",
              "          1.87076211e-01],\n",
              "        [-2.59157211e-01,  2.76260525e-01, -2.49754846e-01,\n",
              "         -4.12954986e-02,  2.41413027e-01,  5.35424054e-02,\n",
              "          1.12775147e-01, -4.72530276e-02, -9.62572694e-02,\n",
              "         -1.59632862e-01],\n",
              "        [ 1.46206439e-01, -1.03247389e-01,  4.84293699e-03,\n",
              "          1.37118280e-01,  1.03012145e-01, -2.01629445e-01,\n",
              "          1.50325418e-01, -1.05106831e-03,  1.91392988e-01,\n",
              "          2.51123279e-01],\n",
              "        [-1.64559036e-01, -2.94997096e-02, -2.49235436e-01,\n",
              "         -1.36429965e-02, -2.19219983e-01, -9.10642892e-02,\n",
              "          1.11554027e-01,  2.65276343e-01, -8.12865049e-02,\n",
              "          1.90508962e-02],\n",
              "        [-1.08318299e-01, -4.44251299e-03,  2.68446118e-01,\n",
              "         -3.77479494e-02,  1.80105627e-01,  1.81301147e-01,\n",
              "          6.60468936e-02, -1.82244748e-01, -1.68095976e-01,\n",
              "          3.38245034e-02],\n",
              "        [-2.12039948e-02, -1.07167572e-01, -1.48292199e-01,\n",
              "          1.19591743e-01, -7.96403289e-02, -1.95794046e-01,\n",
              "         -1.91929117e-01,  2.16666728e-01,  8.55415761e-02,\n",
              "          1.01372361e-01],\n",
              "        [-2.41116986e-01,  8.84138346e-02,  7.67426193e-02,\n",
              "         -9.06615704e-02, -3.69662791e-02, -9.82716680e-02,\n",
              "          1.68396533e-01, -8.38921517e-02,  3.48312259e-02,\n",
              "         -9.55587626e-03],\n",
              "        [-2.62736678e-01,  1.47186697e-01, -1.19595483e-01,\n",
              "          4.15154696e-02, -8.65870714e-03, -1.95011348e-01,\n",
              "         -2.19710886e-01,  1.78065479e-01, -2.26608217e-02,\n",
              "          1.95167005e-01],\n",
              "        [ 2.66567737e-01,  1.81812435e-01, -1.69603661e-01,\n",
              "         -2.23640800e-02,  2.00277448e-01,  2.20775276e-01,\n",
              "         -4.58249152e-02, -7.63155967e-02, -2.26525858e-01,\n",
              "         -2.84433126e-01],\n",
              "        [-2.49585271e-01,  1.45412415e-01, -1.77362770e-01,\n",
              "          9.93051529e-02,  3.04685533e-02,  1.81731761e-01,\n",
              "         -1.94652215e-01, -2.81375408e-01, -2.39614815e-01,\n",
              "          2.10786611e-01],\n",
              "        [-1.65592507e-01,  1.82789624e-01,  3.41681540e-02,\n",
              "          1.68635279e-01, -1.02652609e-01,  8.99924040e-02,\n",
              "         -1.29670203e-02, -1.82488397e-01,  4.10677195e-02,\n",
              "          4.32483256e-02],\n",
              "        [-1.32506773e-01, -5.30252308e-02,  1.20389938e-01,\n",
              "         -2.42990524e-01, -1.37363553e-01, -1.11642897e-01,\n",
              "          2.18638569e-01,  2.15705663e-01, -7.19176680e-02,\n",
              "          1.85770571e-01],\n",
              "        [ 1.52661204e-01, -1.97750628e-02,  9.57295597e-02,\n",
              "         -1.87983945e-01,  2.63989300e-01, -1.45337522e-01,\n",
              "         -2.56020069e-01, -2.74781138e-01, -2.26114869e-01,\n",
              "          1.60014629e-03],\n",
              "        [ 4.13628519e-02,  1.57379299e-01, -1.40224397e-01,\n",
              "         -1.09172881e-01,  5.12868166e-03,  5.95605373e-03,\n",
              "          1.28854752e-01,  1.41425550e-01, -2.33802751e-01,\n",
              "         -1.33538246e-03],\n",
              "        [ 2.43658513e-01, -2.75832742e-01, -2.33775869e-01,\n",
              "         -1.20542750e-01,  3.86502743e-02,  1.87976629e-01,\n",
              "         -4.01239395e-02, -1.16622835e-01, -1.92497894e-01,\n",
              "         -2.36805424e-01],\n",
              "        [-1.03747189e-01, -1.85837626e-01,  1.06443673e-01,\n",
              "          2.44503915e-02,  2.14086354e-01, -4.23182398e-02,\n",
              "         -1.79546490e-01,  1.93489283e-01,  1.23246640e-01,\n",
              "         -1.08391896e-01],\n",
              "        [-2.04122066e-01,  1.71941817e-01,  1.22865975e-01,\n",
              "          4.36371267e-02,  6.57486022e-02, -1.04150593e-01,\n",
              "         -6.67200238e-02,  1.98316276e-02, -1.22760952e-01,\n",
              "         -2.87595093e-02],\n",
              "        [ 2.09770650e-01, -4.11123037e-04, -2.11631611e-01,\n",
              "         -1.38628602e-01,  1.38097763e-01,  4.02050018e-02,\n",
              "         -9.78106260e-03,  2.75984317e-01, -2.00689942e-01,\n",
              "         -2.08265603e-01],\n",
              "        [ 1.03114456e-01, -1.25140399e-01, -1.77768543e-01,\n",
              "         -2.18785077e-01, -2.65223712e-01,  1.20635420e-01,\n",
              "         -2.06688270e-01, -3.44251990e-02, -2.37204194e-01,\n",
              "         -1.24565437e-01],\n",
              "        [-6.27449155e-02, -7.37555027e-02, -5.93498498e-02,\n",
              "          1.96429014e-01,  1.65395141e-01, -1.15480185e-01,\n",
              "          4.02178168e-02,  1.00715458e-01,  4.03644741e-02,\n",
              "          6.62121177e-03],\n",
              "        [-8.83042663e-02,  2.27269560e-01, -1.67379752e-01,\n",
              "          3.65444720e-02, -4.46343422e-03,  2.30451256e-01,\n",
              "          2.15983421e-01,  1.52888834e-01, -1.94351137e-01,\n",
              "          1.78840160e-01],\n",
              "        [-2.45127529e-01,  2.00440437e-01, -1.90737844e-02,\n",
              "         -1.43684030e-01, -8.32952708e-02, -1.61023438e-02,\n",
              "         -2.26395249e-01, -2.04778209e-01,  1.14896894e-02,\n",
              "          1.09459162e-01],\n",
              "        [ 1.84180439e-02, -1.83085278e-01,  8.30745101e-02,\n",
              "          4.20869589e-02,  1.05711371e-01, -1.78388059e-02,\n",
              "         -1.81485116e-02, -1.92810714e-01,  8.41406286e-02,\n",
              "         -1.45022392e-01],\n",
              "        [-1.55493051e-01,  1.38759613e-01, -2.30333760e-01,\n",
              "          1.32736832e-01,  7.17030168e-02,  1.21010303e-01,\n",
              "         -2.15247318e-01,  2.04722613e-01,  1.40397578e-01,\n",
              "         -1.86725557e-02],\n",
              "        [ 2.62579709e-01,  1.24745429e-01, -1.55006558e-01,\n",
              "          2.57359475e-01,  1.85787976e-02,  2.41607338e-01,\n",
              "          4.92215157e-03,  2.01946020e-01, -5.49617410e-03,\n",
              "         -1.39778778e-01],\n",
              "        [-3.21558714e-02,  1.32697999e-01, -3.81109565e-02,\n",
              "         -1.59105167e-01,  2.43703693e-01, -2.28264093e-01,\n",
              "          9.08005536e-02,  1.45177245e-02, -1.10357612e-01,\n",
              "         -1.63994998e-01],\n",
              "        [ 4.66555357e-03, -4.72742766e-02,  1.22438550e-01,\n",
              "         -4.75514084e-02, -1.63354680e-01, -2.18677878e-01,\n",
              "          7.06072748e-02,  1.41537637e-01,  6.97873831e-02,\n",
              "          1.60235256e-01],\n",
              "        [-1.29057795e-01,  5.03403544e-02, -1.12846360e-01,\n",
              "         -8.08008164e-02, -2.54200310e-01, -1.95068032e-01,\n",
              "         -2.32564807e-02,  2.33586162e-01, -4.25735712e-02,\n",
              "          7.59580135e-02],\n",
              "        [ 1.77153409e-01,  4.72082198e-02,  8.24967623e-02,\n",
              "         -8.01900923e-02,  1.73466265e-01, -3.92549485e-02,\n",
              "          8.42061341e-02, -2.67302006e-01, -1.32910371e-01,\n",
              "          1.02118611e-01],\n",
              "        [-2.45513558e-01, -9.35039520e-02,  1.07248992e-01,\n",
              "         -7.99943060e-02,  2.57392079e-01, -1.59970671e-01,\n",
              "         -2.21589312e-01,  1.96254045e-01,  1.80289477e-01,\n",
              "         -1.83509320e-01],\n",
              "        [ 1.56669289e-01,  1.36102170e-01, -5.74211180e-02,\n",
              "          7.44244158e-02, -1.03241414e-01,  2.74864823e-01,\n",
              "          1.36484802e-02,  1.19617343e-01,  1.71965331e-01,\n",
              "          1.87199563e-01],\n",
              "        [ 1.36600941e-01,  2.69663334e-03,  1.36381686e-01,\n",
              "         -1.46015733e-01, -1.15783378e-01, -2.44041920e-01,\n",
              "         -2.89956927e-02,  1.59992665e-01,  1.59439653e-01,\n",
              "          1.11638010e-01],\n",
              "        [-7.63879716e-02, -2.83507049e-01,  2.44984776e-01,\n",
              "         -4.98447716e-02, -1.09832287e-02,  7.70041943e-02,\n",
              "          2.54567713e-01, -2.55228758e-01,  3.26910913e-02,\n",
              "          1.73539788e-01],\n",
              "        [ 4.54876423e-02,  6.82785511e-02,  1.18483186e-01,\n",
              "          1.72380388e-01,  2.28227407e-01,  1.04627997e-01,\n",
              "         -1.71972647e-01, -7.49630481e-02,  5.58462143e-02,\n",
              "         -1.06281638e-02],\n",
              "        [-2.79956520e-01, -3.77066731e-02, -6.48120642e-02,\n",
              "         -1.11208543e-01,  1.37804151e-01,  1.17576480e-01,\n",
              "         -1.66433305e-01, -2.67771930e-01,  1.85132921e-02,\n",
              "          5.29541671e-02],\n",
              "        [-1.87932625e-01,  3.41078639e-02, -5.53901494e-02,\n",
              "         -1.12014309e-01,  2.44762093e-01, -2.75125057e-01,\n",
              "          1.95807695e-01, -1.05000690e-01, -1.16753444e-01,\n",
              "         -2.64659077e-01],\n",
              "        [-1.33495361e-01, -8.85010660e-02, -2.36268818e-01,\n",
              "         -2.72780359e-02,  2.46373802e-01,  1.79143429e-01,\n",
              "          1.95000678e-01,  2.37292320e-01,  1.96478367e-02,\n",
              "         -2.81369686e-02],\n",
              "        [ 1.11300856e-01, -8.04000050e-02,  1.95737273e-01,\n",
              "          5.57541549e-02,  1.09557956e-01,  1.43444836e-01,\n",
              "          2.65125424e-01,  5.32492101e-02,  2.81927586e-02,\n",
              "         -1.91802502e-01],\n",
              "        [-1.79405749e-01, -1.88525841e-01,  2.39066273e-01,\n",
              "         -2.08272323e-01, -1.61794990e-01, -1.47772580e-01,\n",
              "          9.86078680e-02,  1.61785185e-02,  1.58112079e-01,\n",
              "          2.75065094e-01],\n",
              "        [ 6.25461340e-04,  7.16870427e-02,  1.15043998e-01,\n",
              "          5.73273003e-02, -1.94036052e-01,  1.34121984e-01,\n",
              "         -8.99094343e-02, -1.71116173e-01, -8.29783678e-02,\n",
              "          9.50618684e-02],\n",
              "        [-2.70958573e-01, -6.05643839e-02,  2.47104764e-02,\n",
              "         -7.50834048e-02,  8.23458433e-02,  3.40498388e-02,\n",
              "          8.61439705e-02,  2.79159248e-02, -2.08766699e-01,\n",
              "          2.38668829e-01],\n",
              "        [-2.37300128e-01, -2.55639881e-01,  1.98052585e-01,\n",
              "          2.96926498e-03, -5.31672537e-02, -2.12198347e-01,\n",
              "          9.25776362e-03,  1.26338899e-02,  6.69294000e-02,\n",
              "         -2.18729615e-01],\n",
              "        [ 2.42210358e-01, -1.54013753e-01,  2.46300071e-01,\n",
              "          2.22121149e-01, -2.05921531e-01,  4.47181165e-02,\n",
              "          1.35619879e-01, -7.12543726e-03, -1.55887008e-02,\n",
              "          1.29187107e-03],\n",
              "        [-1.26622543e-01,  6.10098243e-03, -9.54602510e-02,\n",
              "          8.52315426e-02,  1.76555037e-01,  1.19184762e-01,\n",
              "          1.33088499e-01, -2.40849644e-01, -2.51835287e-02,\n",
              "         -2.29312986e-01],\n",
              "        [-8.52904618e-02,  8.98062289e-02, -2.63478488e-01,\n",
              "         -2.23712027e-02, -2.71542162e-01,  2.50420719e-01,\n",
              "         -1.07045382e-01,  6.59942627e-03, -2.67924130e-01,\n",
              "         -1.77814990e-01],\n",
              "        [ 2.83388793e-02,  1.28119379e-01, -7.06668198e-02,\n",
              "         -1.95830703e-01,  6.87944293e-02, -1.12431228e-01,\n",
              "         -1.27482086e-01, -8.53782445e-02, -1.68057084e-01,\n",
              "          1.62919223e-01],\n",
              "        [ 1.04164451e-01,  8.39191675e-03,  8.89266729e-02,\n",
              "          2.05151737e-01, -2.78345048e-01,  1.49812430e-01,\n",
              "          1.05620712e-01,  1.42929107e-01, -1.30941853e-01,\n",
              "         -1.81681335e-01],\n",
              "        [-1.04859889e-01, -2.56538272e-01, -2.20009595e-01,\n",
              "         -1.16103753e-01, -4.03341800e-02, -6.89332634e-02,\n",
              "         -3.70962769e-02, -1.35500133e-01,  1.86587811e-01,\n",
              "          1.70417041e-01],\n",
              "        [ 1.44388497e-01,  1.44453198e-01,  1.99125081e-01,\n",
              "         -2.54220068e-01, -2.48180985e-01, -2.65441716e-01,\n",
              "         -2.62995809e-01, -2.86632478e-02, -2.09578842e-01,\n",
              "         -1.99294090e-03],\n",
              "        [ 2.50692874e-01, -2.34511584e-01,  2.47540474e-02,\n",
              "         -3.98568511e-02, -1.68560892e-01, -2.37961978e-01,\n",
              "          9.97304022e-02, -2.65159488e-01,  7.40268528e-02,\n",
              "         -2.18741298e-02],\n",
              "        [ 2.27671832e-01,  2.22655326e-01, -2.03215748e-01,\n",
              "          9.14727747e-02, -2.09751561e-01, -1.47841617e-01,\n",
              "          6.21593595e-02, -1.54696509e-01, -1.51754066e-01,\n",
              "         -1.36150122e-02],\n",
              "        [ 6.19053841e-02, -2.30044752e-01, -1.57807931e-01,\n",
              "         -1.84320211e-02,  6.78467155e-02, -7.84099102e-05,\n",
              "          2.13404864e-01, -2.12491632e-01, -1.19544700e-01,\n",
              "          1.90836996e-01],\n",
              "        [ 1.84874773e-01,  5.96482754e-02,  7.70737231e-02,\n",
              "         -1.12051725e-01,  2.39835680e-02, -2.84417510e-01,\n",
              "         -2.55778730e-02, -2.10086703e-02,  1.03178680e-01,\n",
              "          5.28966486e-02],\n",
              "        [-2.13537663e-01, -1.24397084e-01, -2.65445381e-01,\n",
              "         -2.50429600e-01, -2.07501441e-01, -1.61609247e-01,\n",
              "          1.47683710e-01, -5.63144535e-02,  2.14156687e-01,\n",
              "          2.20015913e-01],\n",
              "        [-1.24369383e-01, -1.55167058e-01,  2.37608701e-01,\n",
              "         -2.79086947e-01,  5.98250628e-02,  1.88388973e-01,\n",
              "         -3.13138962e-03, -2.46554151e-01, -3.89233083e-02,\n",
              "         -3.52646410e-02]], dtype=float32)>,\n",
              " <tf.Variable 'awesome_output_layer/bias:0' shape=(10,) dtype=float32, numpy=array([0., 0., 0., 0., 0., 0., 0., 0., 0., 0.], dtype=float32)>]"
            ]
          },
          "metadata": {},
          "execution_count": 7
        }
      ],
      "source": [
        "model.weights"
      ]
    },
    {
      "cell_type": "code",
      "execution_count": null,
      "id": "2742b1c0",
      "metadata": {
        "colab": {
          "base_uri": "https://localhost:8080/"
        },
        "id": "2742b1c0",
        "outputId": "b71b9517-73a7-460e-cc5d-31ce88608016"
      },
      "outputs": [
        {
          "output_type": "execute_result",
          "data": {
            "text/plain": [
              "(None, 10)"
            ]
          },
          "metadata": {},
          "execution_count": 8
        }
      ],
      "source": [
        "model.output_shape"
      ]
    },
    {
      "cell_type": "markdown",
      "id": "b17ec7f8",
      "metadata": {
        "id": "b17ec7f8"
      },
      "source": [
        "Print the output shape of each layer separately (also shown in output of the `summary` method)"
      ]
    },
    {
      "cell_type": "code",
      "execution_count": null,
      "id": "a36e7a6b",
      "metadata": {
        "colab": {
          "base_uri": "https://localhost:8080/"
        },
        "id": "a36e7a6b",
        "outputId": "479f01c5-ae22-4dfe-b388-d301282537bc"
      },
      "outputs": [
        {
          "output_type": "stream",
          "name": "stdout",
          "text": [
            "(None, 64)\n",
            "(None, 10)\n"
          ]
        }
      ],
      "source": [
        "for layer in model.layers:\n",
        "    print(layer.output_shape) #first dimension is the batch size"
      ]
    },
    {
      "cell_type": "markdown",
      "id": "0c65e773",
      "metadata": {
        "id": "0c65e773"
      },
      "source": [
        "### Convolutional layers"
      ]
    },
    {
      "cell_type": "code",
      "execution_count": null,
      "id": "b445a97c",
      "metadata": {
        "id": "b445a97c"
      },
      "outputs": [],
      "source": [
        "from tensorflow.keras.layers import Dense, Flatten, Conv2D, MaxPooling2D, Conv1D, MaxPooling1D"
      ]
    },
    {
      "cell_type": "markdown",
      "id": "e94954f8",
      "metadata": {
        "id": "e94954f8"
      },
      "source": [
        "Add convolutional layers using `Conv2D`. It takes in the number of filters as the first argument. The second argument is the shape of the kernel. The default stride is 1, and there is no zero padding.\n",
        "\n",
        "Add a subsampling layer using `MaxPooling2D` that takes the kernel size as the first argument."
      ]
    },
    {
      "cell_type": "code",
      "execution_count": null,
      "id": "251e9250",
      "metadata": {
        "id": "251e9250"
      },
      "outputs": [],
      "source": [
        "model2 = Sequential([\n",
        "    #Conv2D takes number of filters as the first argument.\n",
        "    #Second argument is the shape of the kernel\n",
        "    #Default stride is 1, and no zero padding\n",
        "        #add padding = 'SAME' for same sized output\n",
        "    Conv2D(16, (3, 3), activation='relu', input_shape=(32, 32, 3)), #, data_format='channels_last'\n",
        "    #Conv2D(16, (3, 3), padding = 'valid', strides=2, activation='relu', input_shape=(32, 32, 3)),\n",
        "\n",
        "    #pooling window size\n",
        "    MaxPooling2D(3, 3),\n",
        "\n",
        "    #Unroll into a single 1D vector\n",
        "    Flatten(),\n",
        "\n",
        "    Dense(64, activation='relu'),\n",
        "    Dense(10, activation='softmax')\n",
        "])"
      ]
    },
    {
      "cell_type": "code",
      "execution_count": null,
      "id": "c80a4883",
      "metadata": {
        "colab": {
          "base_uri": "https://localhost:8080/"
        },
        "id": "c80a4883",
        "outputId": "e96c7cd5-be47-4ee8-99d7-dc81fef72d91"
      },
      "outputs": [
        {
          "output_type": "stream",
          "name": "stdout",
          "text": [
            "(None, 30, 30, 16)\n",
            "(None, 10, 10, 16)\n",
            "(None, 1600)\n",
            "(None, 64)\n",
            "(None, 10)\n"
          ]
        }
      ],
      "source": [
        "for layer in model2.layers:\n",
        "    #output the shape of the tensors at each layer\n",
        "    print(layer.output_shape) #first dimension is the batch size"
      ]
    },
    {
      "cell_type": "code",
      "execution_count": null,
      "id": "e632feff",
      "metadata": {
        "colab": {
          "base_uri": "https://localhost:8080/"
        },
        "id": "e632feff",
        "outputId": "7926bc1f-468b-4797-9c41-bbb8aa343fbc"
      },
      "outputs": [
        {
          "output_type": "stream",
          "name": "stdout",
          "text": [
            "Model: \"sequential_2\"\n",
            "_________________________________________________________________\n",
            " Layer (type)                Output Shape              Param #   \n",
            "=================================================================\n",
            " conv2d (Conv2D)             (None, 30, 30, 16)        448       \n",
            "                                                                 \n",
            " max_pooling2d (MaxPooling2  (None, 10, 10, 16)        0         \n",
            " D)                                                              \n",
            "                                                                 \n",
            " flatten_1 (Flatten)         (None, 1600)              0         \n",
            "                                                                 \n",
            " dense_3 (Dense)             (None, 64)                102464    \n",
            "                                                                 \n",
            " dense_4 (Dense)             (None, 10)                650       \n",
            "                                                                 \n",
            "=================================================================\n",
            "Total params: 103562 (404.54 KB)\n",
            "Trainable params: 103562 (404.54 KB)\n",
            "Non-trainable params: 0 (0.00 Byte)\n",
            "_________________________________________________________________\n"
          ]
        }
      ],
      "source": [
        "model2.summary()"
      ]
    },
    {
      "cell_type": "markdown",
      "id": "eb866ae1",
      "metadata": {
        "id": "eb866ae1"
      },
      "source": [
        "**QUESTION**: why are the number of parameters in the first `Conv2D` layer = 448?"
      ]
    },
    {
      "cell_type": "markdown",
      "id": "cbd8bca9",
      "metadata": {
        "id": "cbd8bca9"
      },
      "source": [
        "### Default weights and biases\n",
        "\n",
        "**Note**: You may skip this in your first reading. Come back to it when you want to learn about different ways of intialzing weights.\n",
        "\n",
        "In the models we have worked with so far, we have not specified the initial values of the weights and biases in each layer of our neural networks.\n",
        "\n",
        "The default values of the weights and biases in TensorFlow depend on the type of layers we are using.\n",
        "\n",
        "For example, in a `Dense` layer, the biases are set to zero (`zeros`) by default, while the weights are set according to `glorot_uniform`, the Glorot uniform initialiser.\n",
        "\n",
        "The Glorot uniform initialiser draws the weights uniformly at random from the closed interval $[-c,c]$, where $$c = \\sqrt{\\frac{6}{n_{input}+n_{output}}}$$"
      ]
    },
    {
      "cell_type": "markdown",
      "id": "e45c3cde",
      "metadata": {
        "id": "e45c3cde"
      },
      "source": [
        "and $n_{input}$ and $n_{output}$ are the number of inputs to, and outputs from the layer respectively."
      ]
    },
    {
      "cell_type": "markdown",
      "id": "4df943cb",
      "metadata": {
        "id": "4df943cb"
      },
      "source": [
        "### Initialising your own weights and biases\n",
        "We often would like to initialise our own weights and biases, and TensorFlow makes this process quite straightforward.\n",
        "\n",
        "When we construct a model in TensorFlow, each layer has optional arguments `kernel_initialiser` and `bias_initialiser`, which are used to set the weights and biases respectively.\n",
        "\n",
        "If a layer has no weights or biases (e.g. it is a max pooling layer), then trying to set either `kernel_initialiser` or `bias_initialiser` will throw an error.\n",
        "\n",
        "Let's see an example, which uses some of the different initialisations available in Keras."
      ]
    },
    {
      "cell_type": "code",
      "execution_count": null,
      "id": "e4302cc7",
      "metadata": {
        "id": "e4302cc7"
      },
      "outputs": [],
      "source": [
        "#Constructing a model\n",
        "\n",
        "model3 = Sequential([\n",
        "    Conv1D(filters=16, kernel_size=3, input_shape=(128, 64), kernel_initializer='random_uniform', bias_initializer=\"zeros\", activation='relu'),\n",
        "    MaxPooling1D(pool_size=4),\n",
        "    Flatten(),\n",
        "    Dense(64, kernel_initializer='he_uniform', bias_initializer='ones', activation='relu'),\n",
        "])"
      ]
    },
    {
      "cell_type": "code",
      "execution_count": null,
      "id": "b182afac",
      "metadata": {
        "id": "b182afac",
        "colab": {
          "base_uri": "https://localhost:8080/"
        },
        "outputId": "ceb3a27f-6c24-4651-8681-35ae99a32d7a"
      },
      "outputs": [
        {
          "output_type": "stream",
          "name": "stdout",
          "text": [
            "Model: \"sequential\"\n",
            "_________________________________________________________________\n",
            " Layer (type)                Output Shape              Param #   \n",
            "=================================================================\n",
            " conv1d (Conv1D)             (None, 126, 16)           3088      \n",
            "                                                                 \n",
            " max_pooling1d (MaxPooling1  (None, 31, 16)            0         \n",
            " D)                                                              \n",
            "                                                                 \n",
            " flatten (Flatten)           (None, 496)               0         \n",
            "                                                                 \n",
            " dense (Dense)               (None, 64)                31808     \n",
            "                                                                 \n",
            "=================================================================\n",
            "Total params: 34896 (136.31 KB)\n",
            "Trainable params: 34896 (136.31 KB)\n",
            "Non-trainable params: 0 (0.00 Byte)\n",
            "_________________________________________________________________\n"
          ]
        }
      ],
      "source": [
        "model3.summary()"
      ]
    },
    {
      "cell_type": "markdown",
      "id": "703adba2",
      "metadata": {
        "id": "703adba2"
      },
      "source": [
        "### Loss function (measure of model's performance), optimization algorithm (eg. gradient descent), and metrics for measuring classification accuracy.\n",
        "\n",
        "For specifying the loss function, how to optimize (minimize) it, and specify metrics to measure classification accuracy, Tensorflow provides the `compile` method.\n",
        "\n",
        "First, let's create a simple neural network with one fully connected hidden layer and a single neuron in the output layer."
      ]
    },
    {
      "cell_type": "code",
      "execution_count": null,
      "id": "b6271f46",
      "metadata": {
        "id": "b6271f46"
      },
      "outputs": [],
      "source": [
        "model = Sequential([\n",
        "    Dense(64, activation = 'relu', input_shape = (32,)),\n",
        "    Dense(1, activation = 'sigmoid', name = 'binary_output_layer')\n",
        "]\n",
        ")"
      ]
    },
    {
      "cell_type": "markdown",
      "id": "a8b1239c",
      "metadata": {
        "id": "a8b1239c"
      },
      "source": [
        "Options for optimizers are *Stochastic Gradient Descent* (`sgd`), *Adam* (`adam`), etc.\n",
        "\n",
        "Options for loss functions are *Cross Entropy* (`binary_crossentropy`, `categorical_crossentropy`, `sparse_categorical_crossentropy`), etc.\n",
        "\n",
        "Options for metrics are *Classification accuracy* (`accuracy`), *Mean absolute error* (`mae`), etc.\n"
      ]
    },
    {
      "cell_type": "code",
      "execution_count": null,
      "id": "0d513992",
      "metadata": {
        "id": "0d513992"
      },
      "outputs": [],
      "source": [
        "model.compile(\n",
        "    optimizer = 'sgd', #other options: 'adam', 'rmsprop'\n",
        "    loss = 'binary_crossentropy', #when the output is binary (a single neuron)\n",
        "    #loss = 'categorical_crossentropy', #when the output is not binary (multiple neurons) (and labels are one-hot-encoded)\n",
        "\n",
        "    metrics = ['accuracy'] #evaluates each epoch of the training along with the evaluation of the loss function\n",
        "    #metrics = ['accuracy', 'mae'] #more metrics can be added such as mean-absolute-error\n",
        ")"
      ]
    },
    {
      "cell_type": "markdown",
      "id": "c7b6ea4a",
      "metadata": {
        "id": "c7b6ea4a"
      },
      "source": [
        "Keras makes defining the optimizers, loss functions and metrics quite straightforward using strings. But, note that each of these strings is a reference to another function or object.\n",
        "```\n",
        "opt = tf.keras.optimizers.SGD() #tf.keras.optimizers.Adam(learning_rate=0.005)\n",
        "lossfn = tf.keras.losses.BinaryCrossentropy()\n",
        "lossfn = tf.keras.losses.CategoricalCrossentropy()\n",
        "```\n",
        "From [documentation](https://keras.io/api/losses/probabilistic_losses/#categorical_crossentropy-function) use this crossentropy loss function when there are two or more label classes. We expect labels to be provided in a `one_hot` representation (explained below). If you want to provide labels as integers, use `SparseCategoricalCrossentropy` loss.\n",
        "\n",
        "What is the advantage of using the objects directly?"
      ]
    },
    {
      "cell_type": "markdown",
      "id": "25481195",
      "metadata": {
        "id": "25481195"
      },
      "source": [
        "### More on Metrics\n",
        "\n",
        "**Note**: You may skip this in your first reading. Come back to it when you want to learn about how exactly a network's performance is assessed."
      ]
    },
    {
      "cell_type": "markdown",
      "id": "5428a499",
      "metadata": {
        "id": "5428a499"
      },
      "source": [
        "### Case 1 - Binary Classification with sigmoid activation function\n",
        "Suppose we are training a model for a binary classification problem with a sigmoid activation function (softmax activation functions are covered in the next case).\n",
        "\n",
        "Given a training example with input $x^{(i)}$, the model will output a float between 0 and 1. Based on whether this float is less than or greater than our \"threshold\" (which by default is set at 0.5), we round the float to get the predicted classification $y_{pred}$ from the model.\n",
        "\n",
        "The accuracy metric compares the value of $y_{pred}$ on each training example with the true output, the one-hot coded vector $y_{true}^{(i)}$ from our training data.\n",
        "\n",
        "Let $$\\delta(y_{pred}^{(i)},y_{true}^{(i)}) = \\begin{cases} 1 & y_{pred}=y_{true}\\\\\n",
        "0 & y_{pred}\\neq y_{true} \\end{cases}$$\n",
        "\n",
        "The accuracy metric  computes the mean of $\\delta(y_{pred}^{(i)},y_{true}^{(i)})$ over all training examples.\n",
        "\n",
        "$$ accuracy = \\frac{1}{N} \\sum_{i=1}^N \\delta(y_{pred}^{(i)},y_{true}^{(i)}) $$\n",
        "\n",
        "This is implemented in the backend of Keras as follows.\n",
        "Note: We have set $y_{true}$ and $y_{pred}$ ourselves for the purposes of this example."
      ]
    },
    {
      "cell_type": "markdown",
      "id": "180e40bc",
      "metadata": {
        "id": "180e40bc"
      },
      "source": [
        "### Case 2 - Categorical Classification\n",
        "Now suppose we are training a model for a classification problem which should sort data into $m>2$ different classes using a softmax activation function in the last layer.\n",
        "\n",
        "Given a training example with input $x^{(i)}$, the model will output a tensor of probabilities $p_1, p_2, \\dots p_m$, giving the likelihood (according to the model) that $x^{(i)}$ falls into each class.\n",
        "\n",
        "The accuracy metric works by determining the largest argument in the $y_{pred}^{(i)}$ tensor, and compares its index to the index of the maximum value of $y_{true}^{(i)}$ to determine $\\delta(y_{pred}^{(i)},y_{true}^{(i)})$. It then computes the accuracy in the same way as for the binary classification case.\n",
        "\n",
        "$$ accuracy = \\frac{1}{N} \\sum_{i=1}^N \\delta(y_{pred}^{(i)},y_{true}^{(i)}) $$\n",
        "\n",
        "In the backend of Keras, the accuracy metric is implemented slightly differently depending on whether we have a binary classification problem ($m=2$) or a categorical classifcation problem. Note that the accuracy for binary classification problems is the same, no matter if we use a sigmoid or softmax activation function to obtain the output.\n"
      ]
    },
    {
      "cell_type": "markdown",
      "id": "5909f20e",
      "metadata": {
        "id": "5909f20e"
      },
      "source": [
        "\n",
        "```\n",
        "acc = tf.keras.metrics.BinaryAccuracy() #can provide threshold as a parameter\n",
        "mae = tf.keras.metrics.MeanAbsoluteError()\n",
        "model.compile(optimizer=opt, #optimizer='sgd',\n",
        "              loss = lossfn, #loss='sparse_categorical_crossentropy',\n",
        "              metrics= [acc, mae] #['accuracy', 'mae']\n",
        "              )\n",
        "```"
      ]
    },
    {
      "cell_type": "markdown",
      "id": "623aad5c",
      "metadata": {
        "id": "623aad5c"
      },
      "source": [
        "## The Fit Method\n",
        "\n",
        "By now a deep-learning model is fully defined. We have the architecture, the number of layers, activation functions, and so on. We've also assigned an optimizer to the model, possibly with some options of its own, and loss function, and maybe some metrics to track. So now it's time to train the model! Tensorflow provides the `fit` method."
      ]
    },
    {
      "cell_type": "markdown",
      "id": "609ee781",
      "metadata": {
        "id": "609ee781"
      },
      "source": [
        "Training the data is as simple as calling the fit function and providing the training data and training labels. Eg:\n",
        "`model.fit(X_train, y_train)`\n",
        "\n",
        "Assume for now that both X_train and y_train are Numpy arrays, where all of the dataset inputs have been stacked together into a single array, `X_train`, and all the targets or outputs are in `y_train`.\n",
        "\n",
        "Shape of `X_train` = (`num_samples`, `num_features`)\n",
        "\n",
        "Shape of `y_train` = (`num_samples`, `num_classes`) #one-hot encoded version\n",
        "\n",
        "Shape of `y_train` = (`num_samples`,) #sparse label version\n",
        "\n",
        "One hot encoding means each row of `y_train` is a vector of length `num_classes` which is all zeros, except for a one in the place corresponding to the correct class.\n",
        "\n",
        "The other alternative, of course, is that labels have a \"sparse\" representation, i.e. just a single integer for each label, then `y_train` could be a one-dimensional array with length equal to the number of samples. Which loss function should we use in this case?\n",
        "\n",
        "Passing these arrays (`X_train` and `y_train`) into `model.fit`, we will then train the model for **one** \"pass\" through the training data or one epoch. One epoch is typically insufficient, and so we can pass a parameter to represent the number of epochs.\n",
        "\n",
        "`model.fit(X_train, y_train, epochs=10)` #the training will make 10 complete passes through the dataset.\n",
        "\n",
        "Another popular option to pass to the fit function is the batch size (the number of training images that are actually passed through the network during a single pass). By default, the batch size is set to 32. If you want to change that to use a different batch size, you can just use the batch size argument.\n",
        "\n",
        "`model.fit(X_train, y_train, epochs=10, batch_size=16)`\n",
        "\n",
        "Finally, an important point is that calling `model.fit` actually returns something, and it returns something called a `TensorFlow history` object. This object contains a record of the progress of the network during training in terms of the loss and the metrics that we defined when we compiled the model. This object is actually an example of something called a `callback`, which we will use in this week's lab.\n",
        "\n",
        "`history =  model.fit(X_train, y_train, epochs=10, batch_size=16)`\n"
      ]
    },
    {
      "cell_type": "code",
      "execution_count": null,
      "id": "d7b6af0d",
      "metadata": {
        "id": "d7b6af0d",
        "colab": {
          "base_uri": "https://localhost:8080/"
        },
        "outputId": "227b45b2-b925-4d27-d6d8-8f4807acf4cf"
      },
      "outputs": [
        {
          "output_type": "stream",
          "name": "stdout",
          "text": [
            "Downloading data from https://storage.googleapis.com/tensorflow/tf-keras-datasets/train-labels-idx1-ubyte.gz\n",
            "29515/29515 [==============================] - 0s 0us/step\n",
            "Downloading data from https://storage.googleapis.com/tensorflow/tf-keras-datasets/train-images-idx3-ubyte.gz\n",
            "26421880/26421880 [==============================] - 0s 0us/step\n",
            "Downloading data from https://storage.googleapis.com/tensorflow/tf-keras-datasets/t10k-labels-idx1-ubyte.gz\n",
            "5148/5148 [==============================] - 0s 0us/step\n",
            "Downloading data from https://storage.googleapis.com/tensorflow/tf-keras-datasets/t10k-images-idx3-ubyte.gz\n",
            "4422102/4422102 [==============================] - 0s 0us/step\n"
          ]
        }
      ],
      "source": [
        "# Load the Fashion-MNIST dataset: like the MNIST digit dataset but clothes/accessories instead of numbers!\n",
        "\n",
        "fashion_mnist_data = tf.keras.datasets.fashion_mnist\n",
        "(train_images, train_labels), (test_images, test_labels) = fashion_mnist_data.load_data()"
      ]
    },
    {
      "cell_type": "code",
      "execution_count": null,
      "id": "994d8346",
      "metadata": {
        "id": "994d8346",
        "colab": {
          "base_uri": "https://localhost:8080/"
        },
        "outputId": "7df5dfeb-1359-4150-ba0c-fbe5ec421dc6"
      },
      "outputs": [
        {
          "output_type": "stream",
          "name": "stdout",
          "text": [
            "(60000, 28, 28)\n",
            "(60000,)\n"
          ]
        }
      ],
      "source": [
        "# Print the shape of the training data and training labels\n",
        "print(train_images.shape)\n",
        "print(train_labels.shape)"
      ]
    },
    {
      "cell_type": "markdown",
      "id": "a91b269d",
      "metadata": {
        "id": "a91b269d"
      },
      "source": [
        "Labels are integers from 0-9. Are they one-hot-encoded? (Hint: Look at the shape to determine that!)"
      ]
    },
    {
      "cell_type": "code",
      "execution_count": null,
      "id": "fb481dc7",
      "metadata": {
        "id": "fb481dc7",
        "colab": {
          "base_uri": "https://localhost:8080/"
        },
        "outputId": "caa6a19c-ec49-402c-db68-561030ca7ac1"
      },
      "outputs": [
        {
          "output_type": "stream",
          "name": "stdout",
          "text": [
            "9\n"
          ]
        }
      ],
      "source": [
        "# Define the labels\n",
        "\n",
        "labels = [\n",
        "    'T-shirt/top',\n",
        "    'Trouser',\n",
        "    'Pullover',\n",
        "    'Dress',\n",
        "    'Coat',\n",
        "    'Sandal',\n",
        "    'Shirt',\n",
        "    'Sneaker',\n",
        "    'Bag',\n",
        "    'Ankle boot'\n",
        "]\n",
        "print(train_labels[0])"
      ]
    },
    {
      "cell_type": "code",
      "execution_count": null,
      "id": "929507cd",
      "metadata": {
        "id": "929507cd"
      },
      "outputs": [],
      "source": [
        "# Rescale the image values so that they lie in between 0 and 1.\n",
        "train_images = train_images/255.\n",
        "test_images = test_images/ 255."
      ]
    },
    {
      "cell_type": "code",
      "execution_count": null,
      "id": "513ab94f",
      "metadata": {
        "id": "513ab94f"
      },
      "outputs": [],
      "source": [
        "from tensorflow.keras.preprocessing import image\n",
        "import matplotlib.pyplot as plt\n",
        "import numpy as np\n",
        "import pandas as pd"
      ]
    },
    {
      "cell_type": "code",
      "execution_count": null,
      "id": "614eb207",
      "metadata": {
        "id": "614eb207",
        "colab": {
          "base_uri": "https://localhost:8080/",
          "height": 447
        },
        "outputId": "4bd4d9d7-9230-4a8b-985f-03c463401d5b"
      },
      "outputs": [
        {
          "output_type": "display_data",
          "data": {
            "text/plain": [
              "<Figure size 640x480 with 1 Axes>"
            ],
            "image/png": "[encoded data removed]"
          },
          "metadata": {}
        },
        {
          "output_type": "stream",
          "name": "stdout",
          "text": [
            "Label: Bag\n"
          ]
        }
      ],
      "source": [
        "# Display one of the images\n",
        "i = 100\n",
        "img = train_images[i, :, :]\n",
        "plt.imshow(img)\n",
        "plt.show()\n",
        "print(\"Label:\", labels[train_labels[i]])\n"
      ]
    },
    {
      "cell_type": "markdown",
      "id": "4e42b4df",
      "metadata": {
        "id": "4e42b4df"
      },
      "source": [
        "Let us first specify the model and compile options again. Note the change in some parameters to align with training data. That is, flatten the input image (to feed into the next dense layer). Change the number of neurons in the output layer to match the number of labels of our data. Since labels are integers (and not one-hot-encoded), use the sparse categorical crossentropy as the loss measure."
      ]
    },
    {
      "cell_type": "code",
      "execution_count": null,
      "id": "ed518154",
      "metadata": {
        "id": "ed518154"
      },
      "outputs": [],
      "source": [
        "model = Sequential([\n",
        "    Flatten(input_shape = (28, 28)),\n",
        "    Dense(64, activation = 'relu'),\n",
        "    Dense(10, activation = 'softmax')\n",
        "]\n",
        ")\n",
        "\n",
        "model.compile(\n",
        "    optimizer = 'rmsprop', #other options: 'adam', 'rmsprop'\n",
        "    #loss = 'binary_crossentropy', #when the output is binary (a single neuron)\n",
        "    loss = 'sparse_categorical_crossentropy', #when the output is not binary (multiple neurons)\n",
        "\n",
        "    metrics = ['accuracy'] #evaluates each epoch of the training along with the evaluation of the loss function\n",
        "    #metrics = ['accuracy', 'mae'] #more metrics can be added such as mean-absolute-error\n",
        ")"
      ]
    },
    {
      "cell_type": "code",
      "execution_count": null,
      "id": "696cf344",
      "metadata": {
        "id": "696cf344",
        "colab": {
          "base_uri": "https://localhost:8080/"
        },
        "outputId": "a9774bf2-a501-45b5-f55a-efa45127313b"
      },
      "outputs": [
        {
          "output_type": "stream",
          "name": "stdout",
          "text": [
            "Model: \"sequential_2\"\n",
            "_________________________________________________________________\n",
            " Layer (type)                Output Shape              Param #   \n",
            "=================================================================\n",
            " flatten_1 (Flatten)         (None, 784)               0         \n",
            "                                                                 \n",
            " dense_2 (Dense)             (None, 64)                50240     \n",
            "                                                                 \n",
            " dense_3 (Dense)             (None, 10)                650       \n",
            "                                                                 \n",
            "=================================================================\n",
            "Total params: 50890 (198.79 KB)\n",
            "Trainable params: 50890 (198.79 KB)\n",
            "Non-trainable params: 0 (0.00 Byte)\n",
            "_________________________________________________________________\n"
          ]
        }
      ],
      "source": [
        "model.summary()"
      ]
    },
    {
      "cell_type": "code",
      "execution_count": null,
      "id": "2fceb26a",
      "metadata": {
        "id": "2fceb26a",
        "colab": {
          "base_uri": "https://localhost:8080/",
          "height": 422
        },
        "outputId": "4ff7264d-8ff9-4b3b-ddff-64813c1078de"
      },
      "outputs": [
        {
          "output_type": "execute_result",
          "data": {
            "image/png": "[encoded data removed]",
            "text/plain": [
              "<IPython.core.display.Image object>"
            ]
          },
          "metadata": {},
          "execution_count": 17
        }
      ],
      "source": [
        "plot_model(model, show_shapes=True)"
      ]
    },
    {
      "cell_type": "code",
      "execution_count": null,
      "id": "c57b434c",
      "metadata": {
        "id": "c57b434c"
      },
      "outputs": [],
      "source": [
        "?model.fit"
      ]
    },
    {
      "cell_type": "code",
      "execution_count": null,
      "id": "bdcb3f00",
      "metadata": {
        "scrolled": true,
        "id": "bdcb3f00",
        "colab": {
          "base_uri": "https://localhost:8080/"
        },
        "outputId": "46a1335d-5c7b-405d-b090-831c22d4c3e9"
      },
      "outputs": [
        {
          "output_type": "stream",
          "name": "stdout",
          "text": [
            "Epoch 1/5\n",
            "300/300 - 1s - loss: 0.6632 - accuracy: 0.7789 - 1s/epoch - 5ms/step\n",
            "Epoch 2/5\n",
            "300/300 - 1s - loss: 0.4637 - accuracy: 0.8378 - 833ms/epoch - 3ms/step\n",
            "Epoch 3/5\n",
            "300/300 - 1s - loss: 0.4168 - accuracy: 0.8544 - 876ms/epoch - 3ms/step\n",
            "Epoch 4/5\n",
            "300/300 - 1s - loss: 0.3886 - accuracy: 0.8625 - 870ms/epoch - 3ms/step\n",
            "Epoch 5/5\n",
            "300/300 - 1s - loss: 0.3662 - accuracy: 0.8700 - 910ms/epoch - 3ms/step\n"
          ]
        }
      ],
      "source": [
        "history = model.fit(train_images, train_labels, epochs=5, batch_size=200, verbose =2)"
      ]
    },
    {
      "cell_type": "markdown",
      "id": "d00c908f",
      "metadata": {
        "id": "d00c908f"
      },
      "source": [
        "## The Predict Method\n",
        "\n",
        "We're now going to see how well our network has learned by evaluating it's performance on a held out test set. This is data that wasn't used in the training so it will give us a good measure of how well the network has learned to generalize beyond the training data."
      ]
    },
    {
      "cell_type": "markdown",
      "id": "d8c4e6d8",
      "metadata": {
        "id": "d8c4e6d8"
      },
      "source": [
        "We will use the `model.evaluate(X_test, Y_test)` function, where `X_test` are the test inputs and `Y_test` are the test labels. Again, each of these arrays contains a number of data examples. The first dimension of each array corresponds to the number of examples in the test set. Running `model.evaluate`, will iterate over the test set and calculate the loss and the metrics (that we have previously defined) on that test set. Hopefully, if our model has trained well, then these loss of metric values won't be too far off what we achieved on the training set. So we should use the `evaluate` method whenever we have a held-out test set like this to evaluate the performance of the network."
      ]
    },
    {
      "cell_type": "code",
      "execution_count": null,
      "id": "56917dc0",
      "metadata": {
        "id": "56917dc0",
        "colab": {
          "base_uri": "https://localhost:8080/"
        },
        "outputId": "2bf7d7d2-db14-439b-8d84-18a66266aa79"
      },
      "outputs": [
        {
          "output_type": "stream",
          "name": "stdout",
          "text": [
            "(10000, 28, 28)\n",
            "(10000,)\n"
          ]
        }
      ],
      "source": [
        "# Print the shape of the test data and test labels\n",
        "print(test_images.shape)\n",
        "print(test_labels.shape)"
      ]
    },
    {
      "cell_type": "code",
      "execution_count": null,
      "id": "f448f6b7",
      "metadata": {
        "id": "f448f6b7"
      },
      "outputs": [],
      "source": [
        "?model.evaluate"
      ]
    },
    {
      "cell_type": "code",
      "execution_count": null,
      "id": "a522bdf0",
      "metadata": {
        "id": "a522bdf0",
        "colab": {
          "base_uri": "https://localhost:8080/"
        },
        "outputId": "64d55f0a-4eea-457e-c27a-6c8d6791b999"
      },
      "outputs": [
        {
          "output_type": "stream",
          "name": "stdout",
          "text": [
            "313/313 [==============================] - 1s 2ms/step - loss: 0.3851 - accuracy: 0.8651\n"
          ]
        }
      ],
      "source": [
        "test_loss, test_accuracy = model.evaluate(test_images, test_labels) #what is the default batch size? Check the docs!"
      ]
    },
    {
      "cell_type": "markdown",
      "id": "fd25989f",
      "metadata": {
        "id": "fd25989f"
      },
      "source": [
        "\n",
        "We can also obtain predictions on unseen input data using `model.predict` method."
      ]
    },
    {
      "cell_type": "code",
      "execution_count": null,
      "id": "b377334e",
      "metadata": {
        "id": "b377334e",
        "colab": {
          "base_uri": "https://localhost:8080/",
          "height": 447
        },
        "outputId": "e494f6c2-df81-4b6f-fdd1-eff4f5c98d42"
      },
      "outputs": [
        {
          "output_type": "display_data",
          "data": {
            "text/plain": [
              "<Figure size 640x480 with 1 Axes>"
            ],
            "image/png": "[encoded data removed]"
          },
          "metadata": {}
        },
        {
          "output_type": "stream",
          "name": "stdout",
          "text": [
            "Label: Pullover\n"
          ]
        }
      ],
      "source": [
        "# Choose a random test image\n",
        "\n",
        "random_inx = np.random.choice(test_images.shape[0])\n",
        "test_image = test_images[random_inx]\n",
        "plt.imshow(test_image)\n",
        "plt.show()\n",
        "print(f\"Label: {labels[test_labels[random_inx]]}\")"
      ]
    },
    {
      "cell_type": "code",
      "execution_count": null,
      "id": "6da22550",
      "metadata": {
        "id": "6da22550",
        "colab": {
          "base_uri": "https://localhost:8080/",
          "height": 793
        },
        "outputId": "0f1ba765-b27e-4ffb-90ee-e1c81552b1a5"
      },
      "outputs": [
        {
          "output_type": "stream",
          "name": "stdout",
          "text": [
            "(28, 28)\n"
          ]
        },
        {
          "output_type": "error",
          "ename": "ValueError",
          "evalue": "ignored",
          "traceback": [
            "\u001b[0;31m---------------------------------------------------------------------------\u001b[0m",
            "\u001b[0;31mValueError\u001b[0m                                Traceback (most recent call last)",
            "\u001b[0;32m<ipython-input-24-59de7ec32c67>\u001b[0m in \u001b[0;36m<cell line: 3>\u001b[0;34m()\u001b[0m\n\u001b[1;32m      1\u001b[0m \u001b[0;31m#CAUTION: THIS CELL WILL GIVE AN ERROR. WHY? LOOK AT THE NEXT CELL FOR SOLUTION.\u001b[0m\u001b[0;34m\u001b[0m\u001b[0;34m\u001b[0m\u001b[0m\n\u001b[1;32m      2\u001b[0m \u001b[0mprint\u001b[0m\u001b[0;34m(\u001b[0m\u001b[0mtest_image\u001b[0m\u001b[0;34m.\u001b[0m\u001b[0mshape\u001b[0m\u001b[0;34m)\u001b[0m\u001b[0;34m\u001b[0m\u001b[0;34m\u001b[0m\u001b[0m\n\u001b[0;32m----> 3\u001b[0;31m \u001b[0mpred\u001b[0m \u001b[0;34m=\u001b[0m \u001b[0mmodel\u001b[0m\u001b[0;34m.\u001b[0m\u001b[0mpredict\u001b[0m\u001b[0;34m(\u001b[0m\u001b[0mtest_image\u001b[0m\u001b[0;34m)\u001b[0m\u001b[0;34m\u001b[0m\u001b[0;34m\u001b[0m\u001b[0m\n\u001b[0m",
            "\u001b[0;32m/usr/local/lib/python3.10/dist-packages/keras/src/utils/traceback_utils.py\u001b[0m in \u001b[0;36merror_handler\u001b[0;34m(*args, **kwargs)\u001b[0m\n\u001b[1;32m     68\u001b[0m             \u001b[0;31m# To get the full stack trace, call:\u001b[0m\u001b[0;34m\u001b[0m\u001b[0;34m\u001b[0m\u001b[0m\n\u001b[1;32m     69\u001b[0m             \u001b[0;31m# `tf.debugging.disable_traceback_filtering()`\u001b[0m\u001b[0;34m\u001b[0m\u001b[0;34m\u001b[0m\u001b[0m\n\u001b[0;32m---> 70\u001b[0;31m             \u001b[0;32mraise\u001b[0m \u001b[0me\u001b[0m\u001b[0;34m.\u001b[0m\u001b[0mwith_traceback\u001b[0m\u001b[0;34m(\u001b[0m\u001b[0mfiltered_tb\u001b[0m\u001b[0;34m)\u001b[0m \u001b[0;32mfrom\u001b[0m \u001b[0;32mNone\u001b[0m\u001b[0;34m\u001b[0m\u001b[0;34m\u001b[0m\u001b[0m\n\u001b[0m\u001b[1;32m     71\u001b[0m         \u001b[0;32mfinally\u001b[0m\u001b[0;34m:\u001b[0m\u001b[0;34m\u001b[0m\u001b[0;34m\u001b[0m\u001b[0m\n\u001b[1;32m     72\u001b[0m             \u001b[0;32mdel\u001b[0m \u001b[0mfiltered_tb\u001b[0m\u001b[0;34m\u001b[0m\u001b[0;34m\u001b[0m\u001b[0m\n",
            "\u001b[0;32m/usr/local/lib/python3.10/dist-packages/keras/src/engine/training.py\u001b[0m in \u001b[0;36mtf__predict_function\u001b[0;34m(iterator)\u001b[0m\n\u001b[1;32m     13\u001b[0m                 \u001b[0;32mtry\u001b[0m\u001b[0;34m:\u001b[0m\u001b[0;34m\u001b[0m\u001b[0;34m\u001b[0m\u001b[0m\n\u001b[1;32m     14\u001b[0m                     \u001b[0mdo_return\u001b[0m \u001b[0;34m=\u001b[0m \u001b[0;32mTrue\u001b[0m\u001b[0;34m\u001b[0m\u001b[0;34m\u001b[0m\u001b[0m\n\u001b[0;32m---> 15\u001b[0;31m                     \u001b[0mretval_\u001b[0m \u001b[0;34m=\u001b[0m \u001b[0mag__\u001b[0m\u001b[0;34m.\u001b[0m\u001b[0mconverted_call\u001b[0m\u001b[0;34m(\u001b[0m\u001b[0mag__\u001b[0m\u001b[0;34m.\u001b[0m\u001b[0mld\u001b[0m\u001b[0;34m(\u001b[0m\u001b[0mstep_function\u001b[0m\u001b[0;34m)\u001b[0m\u001b[0;34m,\u001b[0m \u001b[0;34m(\u001b[0m\u001b[0mag__\u001b[0m\u001b[0;34m.\u001b[0m\u001b[0mld\u001b[0m\u001b[0;34m(\u001b[0m\u001b[0mself\u001b[0m\u001b[0;34m)\u001b[0m\u001b[0;34m,\u001b[0m \u001b[0mag__\u001b[0m\u001b[0;34m.\u001b[0m\u001b[0mld\u001b[0m\u001b[0;34m(\u001b[0m\u001b[0miterator\u001b[0m\u001b[0;34m)\u001b[0m\u001b[0;34m)\u001b[0m\u001b[0;34m,\u001b[0m \u001b[0;32mNone\u001b[0m\u001b[0;34m,\u001b[0m \u001b[0mfscope\u001b[0m\u001b[0;34m)\u001b[0m\u001b[0;34m\u001b[0m\u001b[0;34m\u001b[0m\u001b[0m\n\u001b[0m\u001b[1;32m     16\u001b[0m                 \u001b[0;32mexcept\u001b[0m\u001b[0;34m:\u001b[0m\u001b[0;34m\u001b[0m\u001b[0;34m\u001b[0m\u001b[0m\n\u001b[1;32m     17\u001b[0m                     \u001b[0mdo_return\u001b[0m \u001b[0;34m=\u001b[0m \u001b[0;32mFalse\u001b[0m\u001b[0;34m\u001b[0m\u001b[0;34m\u001b[0m\u001b[0m\n",
            "\u001b[0;31mValueError\u001b[0m: in user code:\n\n    File \"/usr/local/lib/python3.10/dist-packages/keras/src/engine/training.py\", line 2341, in predict_function  *\n        return step_function(self, iterator)\n    File \"/usr/local/lib/python3.10/dist-packages/keras/src/engine/training.py\", line 2327, in step_function  **\n        outputs = model.distribute_strategy.run(run_step, args=(data,))\n    File \"/usr/local/lib/python3.10/dist-packages/keras/src/engine/training.py\", line 2315, in run_step  **\n        outputs = model.predict_step(data)\n    File \"/usr/local/lib/python3.10/dist-packages/keras/src/engine/training.py\", line 2283, in predict_step\n        return self(x, training=False)\n    File \"/usr/local/lib/python3.10/dist-packages/keras/src/utils/traceback_utils.py\", line 70, in error_handler\n        raise e.with_traceback(filtered_tb) from None\n    File \"/usr/local/lib/python3.10/dist-packages/keras/src/engine/input_spec.py\", line 280, in assert_input_compatibility\n        raise ValueError(\n\n    ValueError: Exception encountered when calling layer 'sequential_2' (type Sequential).\n    \n    Input 0 of layer \"dense_2\" is incompatible with the layer: expected axis -1 of input shape to have value 784, but received input with shape (None, 28)\n    \n    Call arguments received by layer 'sequential_2' (type Sequential):\n      • inputs=tf.Tensor(shape=(None, 28), dtype=float32)\n      • training=False\n      • mask=None\n"
          ]
        }
      ],
      "source": [
        "#CAUTION: THIS CELL WILL GIVE AN ERROR. WHY? LOOK AT THE NEXT CELL FOR SOLUTION.\n",
        "print(test_image.shape)\n",
        "pred = model.predict(test_image)"
      ]
    },
    {
      "cell_type": "markdown",
      "id": "0aeea5bc",
      "metadata": {
        "id": "0aeea5bc"
      },
      "source": [
        "The `predict` method expects a batch of images of shape (B, rows, columns). If there is only one image, B = 1. So we need to insert a new axis to provide that additional channel. Of course, this is only required when predicting a single image."
      ]
    },
    {
      "cell_type": "code",
      "execution_count": null,
      "id": "86d84782",
      "metadata": {
        "id": "86d84782",
        "colab": {
          "base_uri": "https://localhost:8080/"
        },
        "outputId": "7ee53718-0e13-49e6-f1db-2738f42ce6a0"
      },
      "outputs": [
        {
          "output_type": "stream",
          "name": "stdout",
          "text": [
            "(1, 28, 28)\n",
            "1/1 [==============================] - 0s 56ms/step\n",
            "(1, 10)\n",
            "[[5.3571832e-05 1.6935179e-05 9.9479586e-01 8.1070875e-06 1.8739798e-03\n",
            "  5.0028665e-11 3.2462021e-03 3.3468967e-11 5.2877231e-06 6.4403387e-13]]\n"
          ]
        }
      ],
      "source": [
        "print(test_image[np.newaxis].shape)\n",
        "pred = model.predict(test_image[np.newaxis,:])\n",
        "print(pred.shape)\n",
        "print(pred)"
      ]
    },
    {
      "cell_type": "code",
      "execution_count": null,
      "id": "9a28a9a3",
      "metadata": {
        "id": "9a28a9a3",
        "colab": {
          "base_uri": "https://localhost:8080/"
        },
        "outputId": "47f8f3ae-b926-4031-d522-cb34ebd1c825"
      },
      "outputs": [
        {
          "output_type": "stream",
          "name": "stdout",
          "text": [
            "Prediction:  Pullover\n"
          ]
        }
      ],
      "source": [
        "print(\"Prediction: \", labels[np.argmax(pred)])"
      ]
    },
    {
      "cell_type": "code",
      "execution_count": null,
      "id": "b4e9899c",
      "metadata": {
        "id": "b4e9899c"
      },
      "outputs": [],
      "source": []
    }
  ],
  "metadata": {
    "kernelspec": {
      "display_name": "Python 3 (ipykernel)",
      "language": "python",
      "name": "python3"
    },
    "language_info": {
      "codemirror_mode": {
        "name": "ipython",
        "version": 3
      },
      "file_extension": ".py",
      "mimetype": "text/x-python",
      "name": "python",
      "nbconvert_exporter": "python",
      "pygments_lexer": "ipython3",
      "version": "3.10.12"
    },
    "colab": {
      "provenance": [],
      "include_colab_link": true
    }
  },
  "nbformat": 4,
  "nbformat_minor": 5
}