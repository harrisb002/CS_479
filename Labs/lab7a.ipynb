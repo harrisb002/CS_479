{
  "cells": [
    {
      "cell_type": "markdown",
      "metadata": {
        "id": "view-in-github",
        "colab_type": "text"
      },
      "source": [
        "<a href=\"https://colab.research.google.com/github/harrisb002/CS_479/blob/Labs/lab7a.ipynb\" target=\"_parent\"><img src=\"https://colab.research.google.com/assets/colab-badge.svg\" alt=\"Open In Colab\"/></a>"
      ]
    },
    {
      "cell_type": "code",
      "execution_count": 1,
      "metadata": {
        "colab": {
          "base_uri": "https://localhost:8080/"
        },
        "id": "AJ7DwYa2zZyS",
        "outputId": "d3255287-68cd-4a73-a1d2-b620edcbb9f8"
      },
      "outputs": [
        {
          "output_type": "stream",
          "name": "stdout",
          "text": [
            "2.13.0\n"
          ]
        }
      ],
      "source": [
        "import tensorflow as tf\n",
        "print(tf.__version__)"
      ]
    },
    {
      "cell_type": "markdown",
      "metadata": {
        "id": "4uYe1IPmD23k"
      },
      "source": [
        "## Credits\n",
        "Some of the material in this notebook has been taken from a Coursera Deep Learning course"
      ]
    },
    {
      "cell_type": "markdown",
      "metadata": {
        "id": "yd4xI-PuD23m"
      },
      "source": [
        "## Learning Objectives\n",
        " - Construct simple deep learning models using the Keras Sequential model\n",
        " - Compile and fit Sequential models to data using various loss functions and optimisers\n",
        " - Evaluate models on held-out data and make model predictions"
      ]
    },
    {
      "cell_type": "markdown",
      "metadata": {
        "id": "PqvcxMNjzZyT"
      },
      "source": [
        "# The Sequential model API"
      ]
    },
    {
      "cell_type": "markdown",
      "metadata": {
        "id": "L-16O3b2zZyU"
      },
      "source": [
        " ## Coding sections\n",
        " #### [1. Building a Sequential model](#coding_tutorial_1)\n",
        " #### [2. Convolutional and pooling layers](#coding_tutorial_2)\n",
        " #### [3. The compile method](#coding_tutorial_3)\n",
        " #### [4. The fit method](#coding_tutorial_4)\n",
        " #### [5. The evaluate and predict methods](#coding_tutorial_5)"
      ]
    },
    {
      "cell_type": "markdown",
      "metadata": {
        "id": "dTd-o9agzZyU"
      },
      "source": [
        "***\n",
        "<a id=\"coding_tutorial_1\"></a>\n",
        "## Building a Sequential model"
      ]
    },
    {
      "cell_type": "markdown",
      "metadata": {
        "id": "3_hcGhEtD23o"
      },
      "source": [
        "### Import the different kinds of layers"
      ]
    },
    {
      "cell_type": "code",
      "execution_count": 2,
      "metadata": {
        "id": "IE-C0DVizZyV"
      },
      "outputs": [],
      "source": [
        "from tensorflow.keras.models import Sequential\n",
        "from tensorflow.keras.layers import Dense, Flatten, Softmax\n",
        "from tensorflow.keras.utils import plot_model\n"
      ]
    },
    {
      "cell_type": "code",
      "source": [],
      "metadata": {
        "id": "iKoqxihOGPG5"
      },
      "execution_count": 2,
      "outputs": []
    },
    {
      "cell_type": "markdown",
      "metadata": {
        "id": "7gd8sruFzZyV"
      },
      "source": [
        "#### Build a feedforward neural network model"
      ]
    },
    {
      "cell_type": "code",
      "execution_count": 3,
      "metadata": {
        "id": "H-OP92mizZyV"
      },
      "outputs": [],
      "source": [
        "# TODO 1\n",
        "# Build the Sequential feedforward neural network model.\n",
        "# A Flatten layer that takes as input of shape (28, 28)\n",
        "# 3 hidden layers,\n",
        "#     the first one with 32 units and sigmoid activation function\n",
        "#     the second and third with 16 units each and relu activation function\n",
        "# and an output layer with 10 classes\n"
      ]
    },
    {
      "cell_type": "code",
      "source": [
        "model = Sequential([\n",
        "    Flatten (input_shape=(28,28)),\n",
        "    Dense(32, activation = 'sigmoid'),\n",
        "    Dense(16, activation = 'relu'),\n",
        "    Dense(16, activation = 'relu'),\n",
        "    Dense(10, activation = 'softmax')\n",
        "])"
      ],
      "metadata": {
        "id": "7iBfkSGhFpjm"
      },
      "execution_count": 4,
      "outputs": []
    },
    {
      "cell_type": "markdown",
      "metadata": {
        "id": "LVi2I6LMD23q"
      },
      "source": [
        "Print the model summary to match with this:\n",
        "![](model1.png)"
      ]
    },
    {
      "cell_type": "code",
      "execution_count": 5,
      "metadata": {
        "colab": {
          "base_uri": "https://localhost:8080/"
        },
        "id": "FKFuzagc4Owz",
        "outputId": "88f17a35-6dd8-46bb-d271-ffd3372e251e"
      },
      "outputs": [
        {
          "output_type": "stream",
          "name": "stdout",
          "text": [
            "(None, 784)\n",
            "(None, 32)\n",
            "(None, 16)\n",
            "(None, 16)\n",
            "(None, 10)\n"
          ]
        }
      ],
      "source": [
        "for layer in model.layers:\n",
        "    print(layer.output_shape)"
      ]
    },
    {
      "cell_type": "code",
      "execution_count": 6,
      "metadata": {
        "colab": {
          "base_uri": "https://localhost:8080/"
        },
        "id": "M2ymPBOn15pj",
        "outputId": "83cbc17d-d28c-493d-c0c2-fad17830c093"
      },
      "outputs": [
        {
          "output_type": "execute_result",
          "data": {
            "text/plain": [
              "(None, 10)"
            ]
          },
          "metadata": {},
          "execution_count": 6
        }
      ],
      "source": [
        "model.output_shape"
      ]
    },
    {
      "cell_type": "code",
      "execution_count": 7,
      "metadata": {
        "colab": {
          "base_uri": "https://localhost:8080/"
        },
        "id": "AxBYO5h7zZyW",
        "outputId": "e15e5c34-07cf-496b-ce4a-6e404bb193bc"
      },
      "outputs": [
        {
          "output_type": "stream",
          "name": "stdout",
          "text": [
            "Model: \"sequential\"\n",
            "_________________________________________________________________\n",
            " Layer (type)                Output Shape              Param #   \n",
            "=================================================================\n",
            " flatten (Flatten)           (None, 784)               0         \n",
            "                                                                 \n",
            " dense (Dense)               (None, 32)                25120     \n",
            "                                                                 \n",
            " dense_1 (Dense)             (None, 16)                528       \n",
            "                                                                 \n",
            " dense_2 (Dense)             (None, 16)                272       \n",
            "                                                                 \n",
            " dense_3 (Dense)             (None, 10)                170       \n",
            "                                                                 \n",
            "=================================================================\n",
            "Total params: 26090 (101.91 KB)\n",
            "Trainable params: 26090 (101.91 KB)\n",
            "Non-trainable params: 0 (0.00 Byte)\n",
            "_________________________________________________________________\n"
          ]
        }
      ],
      "source": [
        "# Print the model summary\n",
        "#model.weights\n",
        "model.summary()\n"
      ]
    },
    {
      "cell_type": "markdown",
      "metadata": {
        "id": "J1BjHk-NzZyX"
      },
      "source": [
        "***\n",
        "<a id=\"coding_tutorial_2\"></a>\n",
        "## Convolutional and pooling layers"
      ]
    },
    {
      "cell_type": "code",
      "execution_count": 8,
      "metadata": {
        "id": "-9XThpfczZyX"
      },
      "outputs": [],
      "source": [
        "from tensorflow.keras.models import Sequential\n",
        "from tensorflow.keras.layers import Dense, Flatten, Conv2D, MaxPooling2D"
      ]
    },
    {
      "cell_type": "markdown",
      "metadata": {
        "id": "CUlyrp59zZyX"
      },
      "source": [
        "#### Build a convolutional neural network model"
      ]
    },
    {
      "cell_type": "code",
      "execution_count": 9,
      "metadata": {
        "id": "0-R3ZGGOzZyY"
      },
      "outputs": [],
      "source": [
        "# TODO 2\n",
        "# Build the Sequential convolutional neural network model.\n",
        "\n",
        "#Start with create a convolution layers with 16 layers, kernel size of 3, relu activation\n",
        "#and input shape of (28, 28, 1)\n",
        "\n",
        "#Next, add a max pooling layer of kernel size 3\n",
        "#Then, a flatten layer\n",
        "#Finally, a Dense layer with 10 units and softmax activation function\n",
        "\n"
      ]
    },
    {
      "cell_type": "code",
      "source": [
        "model2 = Sequential([\n",
        "    Conv2D(16, (3, 3), activation='relu', input_shape=(28, 28, 1)),\n",
        "    MaxPooling2D(3, 3),\n",
        "    Flatten(),\n",
        "    Dense(10, activation='softmax')\n",
        "])"
      ],
      "metadata": {
        "id": "FcGf2D4eGce-"
      },
      "execution_count": 10,
      "outputs": []
    },
    {
      "cell_type": "markdown",
      "metadata": {
        "id": "oW6CV98uD23u"
      },
      "source": [
        "Run model summary and obtain this:\n",
        "![](model2.png)"
      ]
    },
    {
      "cell_type": "code",
      "execution_count": 11,
      "metadata": {
        "id": "lGjYiEwYzZyY",
        "colab": {
          "base_uri": "https://localhost:8080/"
        },
        "outputId": "f03fdfc6-0f69-49ff-ba0b-ada3e613fd63"
      },
      "outputs": [
        {
          "output_type": "stream",
          "name": "stdout",
          "text": [
            "Model: \"sequential\"\n",
            "_________________________________________________________________\n",
            " Layer (type)                Output Shape              Param #   \n",
            "=================================================================\n",
            " flatten (Flatten)           (None, 784)               0         \n",
            "                                                                 \n",
            " dense (Dense)               (None, 32)                25120     \n",
            "                                                                 \n",
            " dense_1 (Dense)             (None, 16)                528       \n",
            "                                                                 \n",
            " dense_2 (Dense)             (None, 16)                272       \n",
            "                                                                 \n",
            " dense_3 (Dense)             (None, 10)                170       \n",
            "                                                                 \n",
            "=================================================================\n",
            "Total params: 26090 (101.91 KB)\n",
            "Trainable params: 26090 (101.91 KB)\n",
            "Non-trainable params: 0 (0.00 Byte)\n",
            "_________________________________________________________________\n"
          ]
        }
      ],
      "source": [
        "# Print the model summary\n",
        "\n",
        "model.summary()"
      ]
    },
    {
      "cell_type": "markdown",
      "metadata": {
        "id": "76GSsVUcD23v"
      },
      "source": [
        "### Things to play with:\n",
        " - What happens if we remove the 1 in the `input_shape` parameter of `Conv2D` and just give (28, 28)?\n",
        " - how does the summary change if the convolution layer uses padding = 'SAME'?\n",
        " - how does the summary change if the convolution layer uses strides = 2\n"
      ]
    },
    {
      "cell_type": "markdown",
      "metadata": {
        "id": "h8TylqtUzZyY"
      },
      "source": [
        "***\n",
        "<a id=\"coding_tutorial_3\"></a>\n",
        "## The compile method"
      ]
    },
    {
      "cell_type": "markdown",
      "metadata": {
        "id": "HWAabLoYzZyZ"
      },
      "source": [
        "#### Compile the model\n",
        "\n",
        "Use the `adam` optimizer, `sparse categorical crossentropy` as the loss function, and `accuracy` and `mae` as the metrics."
      ]
    },
    {
      "cell_type": "code",
      "execution_count": 12,
      "metadata": {
        "id": "RJ17kkoZzZyZ"
      },
      "outputs": [],
      "source": [
        "# TODO 3: Define the model optimizer, loss function and metrics\n",
        "model.compile(\n",
        "    optimizer = 'adam',\n",
        "    loss = 'sparse_categorical_crossentropy',\n",
        "    metrics = ['accuracy']\n",
        ")\n"
      ]
    },
    {
      "cell_type": "markdown",
      "metadata": {
        "id": "ixdbaKyeD23x"
      },
      "source": [
        "### Things to play with:\n",
        " - What is the default learning rate of the [adam optimizer](https://www.tensorflow.org/api_docs/python/tf/keras/optimizers/Adam)? Change it to 0.005.\n"
      ]
    },
    {
      "cell_type": "code",
      "execution_count": 13,
      "metadata": {
        "id": "C71lPCiczZyZ",
        "colab": {
          "base_uri": "https://localhost:8080/"
        },
        "outputId": "2e4738cb-2a4a-444b-e9ba-c6a841c3ce35"
      },
      "outputs": [
        {
          "output_type": "stream",
          "name": "stdout",
          "text": [
            "sparse_categorical_crossentropy\n",
            "<keras.src.optimizers.adam.Adam object at 0x793563e66c80>\n",
            "[]\n"
          ]
        }
      ],
      "source": [
        "# Print the resulting model attributes\n",
        "print(model.loss)\n",
        "print(model.optimizer)\n",
        "print(model.metrics)\n"
      ]
    },
    {
      "cell_type": "markdown",
      "metadata": {
        "id": "GOyD6y1MzZyZ"
      },
      "source": [
        "***\n",
        "<a id=\"coding_tutorial_4\"></a>\n",
        "## The fit method"
      ]
    },
    {
      "cell_type": "code",
      "execution_count": 14,
      "metadata": {
        "id": "Q0_8mAbszZyZ"
      },
      "outputs": [],
      "source": [
        "from tensorflow.keras.preprocessing import image\n",
        "import matplotlib.pyplot as plt\n",
        "import numpy as np\n",
        "import pandas as pd"
      ]
    },
    {
      "cell_type": "markdown",
      "metadata": {
        "id": "y5pe4xbEzZya"
      },
      "source": [
        "#### Load the data"
      ]
    },
    {
      "cell_type": "code",
      "execution_count": 15,
      "metadata": {
        "id": "z4-vOOgUzZya",
        "colab": {
          "base_uri": "https://localhost:8080/"
        },
        "outputId": "863735b1-1bbe-4118-d059-839396852fcb"
      },
      "outputs": [
        {
          "output_type": "stream",
          "name": "stdout",
          "text": [
            "Downloading data from https://storage.googleapis.com/tensorflow/tf-keras-datasets/train-labels-idx1-ubyte.gz\n",
            "29515/29515 [==============================] - 0s 0us/step\n",
            "Downloading data from https://storage.googleapis.com/tensorflow/tf-keras-datasets/train-images-idx3-ubyte.gz\n",
            "26421880/26421880 [==============================] - 0s 0us/step\n",
            "Downloading data from https://storage.googleapis.com/tensorflow/tf-keras-datasets/t10k-labels-idx1-ubyte.gz\n",
            "5148/5148 [==============================] - 0s 0us/step\n",
            "Downloading data from https://storage.googleapis.com/tensorflow/tf-keras-datasets/t10k-images-idx3-ubyte.gz\n",
            "4422102/4422102 [==============================] - 0s 0us/step\n"
          ]
        }
      ],
      "source": [
        "# Load the Fashion-MNIST dataset\n",
        "\n",
        "fashion_mnist_data = tf.keras.datasets.fashion_mnist\n",
        "(train_images, train_labels), (test_images, test_labels) = fashion_mnist_data.load_data()"
      ]
    },
    {
      "cell_type": "code",
      "execution_count": 16,
      "metadata": {
        "id": "60uqvs0pzZya",
        "colab": {
          "base_uri": "https://localhost:8080/"
        },
        "outputId": "f41fa27e-c1fd-4b92-e7c5-b8bd60240b56"
      },
      "outputs": [
        {
          "output_type": "stream",
          "name": "stdout",
          "text": [
            "(60000, 28, 28)\n",
            "(10000, 28, 28)\n"
          ]
        }
      ],
      "source": [
        "# TODO 4: Print the shape of the training data and training labels\n",
        "print(train_images.shape)\n",
        "print(test_images.shape)"
      ]
    },
    {
      "cell_type": "code",
      "execution_count": 17,
      "metadata": {
        "id": "ct6-faQazZya",
        "colab": {
          "base_uri": "https://localhost:8080/"
        },
        "outputId": "0351f57e-17d7-459e-d2e4-215e12cc8226"
      },
      "outputs": [
        {
          "output_type": "stream",
          "name": "stdout",
          "text": [
            "9\n"
          ]
        }
      ],
      "source": [
        "# Define the labels\n",
        "\n",
        "labels = [\n",
        "    'T-shirt/top',\n",
        "    'Trouser',\n",
        "    'Pullover',\n",
        "    'Dress',\n",
        "    'Coat',\n",
        "    'Sandal',\n",
        "    'Shirt',\n",
        "    'Sneaker',\n",
        "    'Bag',\n",
        "    'Ankle boot'\n",
        "]\n",
        "print(train_labels[0])"
      ]
    },
    {
      "cell_type": "code",
      "execution_count": 18,
      "metadata": {
        "id": "1xb3aAe5zZya"
      },
      "outputs": [],
      "source": [
        "# TODO 5: Rescale the values in train_images and test_image so that they lie in between 0 and 1.\n",
        "train_images = train_images/255.\n",
        "test_images = test_images/ 255.\n"
      ]
    },
    {
      "cell_type": "code",
      "execution_count": 19,
      "metadata": {
        "id": "2ASkSRwRzZyb",
        "colab": {
          "base_uri": "https://localhost:8080/",
          "height": 370
        },
        "outputId": "13e1de11-07fc-4099-a91c-421cd823bd3c"
      },
      "outputs": [
        {
          "output_type": "display_data",
          "data": {
            "text/plain": [
              "<Figure size 640x480 with 1 Axes>"
            ],
            "image/png": "[encoded data removed]"
          },
          "metadata": {}
        },
        {
          "output_type": "stream",
          "name": "stdout",
          "text": [
            "Label: Pullover\n"
          ]
        }
      ],
      "source": [
        "# Display one of the training images randomly (Run this cell several times to see different images)\n",
        "i =  np.random.choice(train_images.shape[0])\n",
        "img = train_images[i, :, :]\n",
        "plt.imshow(img)\n",
        "plt.show()\n",
        "print(\"Label:\", labels[train_labels[i]])\n",
        "\n",
        "\n"
      ]
    },
    {
      "cell_type": "markdown",
      "source": [],
      "metadata": {
        "id": "Gsk795IDN7UG"
      }
    },
    {
      "cell_type": "markdown",
      "metadata": {
        "id": "QWc5SdImzZyb"
      },
      "source": [
        "#### Fit the model"
      ]
    },
    {
      "cell_type": "code",
      "execution_count": null,
      "metadata": {
        "id": "r0wrIOGRzZyb",
        "colab": {
          "base_uri": "https://localhost:8080/"
        },
        "outputId": "f90e34a7-b082-4b66-aff9-a87927a1ede1"
      },
      "outputs": [
        {
          "output_type": "stream",
          "name": "stdout",
          "text": [
            "Epoch 1/8\n",
            "1875/1875 [==============================] - 15s 7ms/step - loss: 0.6285 - accuracy: 0.7850\n",
            "Epoch 2/8\n",
            "1875/1875 [==============================] - 4s 2ms/step - loss: 0.4064 - accuracy: 0.8542\n",
            "Epoch 3/8\n",
            "1875/1875 [==============================] - 4s 2ms/step - loss: 0.3735 - accuracy: 0.8647\n",
            "Epoch 4/8\n",
            "1875/1875 [==============================] - 5s 3ms/step - loss: 0.3535 - accuracy: 0.8733\n",
            "Epoch 5/8\n",
            "1875/1875 [==============================] - 5s 2ms/step - loss: 0.3385 - accuracy: 0.8775\n",
            "Epoch 6/8\n",
            "1669/1875 [=========================>....] - ETA: 0s - loss: 0.3269 - accuracy: 0.8804"
          ]
        }
      ],
      "source": [
        "# TODO 6: Fit the model using 8 epochs and batch size of 256. Store the output in variable called history\n",
        "# NOTE: If training is taking long, use less number of epochs or a portion of the training set\n",
        "history = model.fit(train_images, train_labels, epochs=8)\n"
      ]
    },
    {
      "cell_type": "markdown",
      "metadata": {
        "id": "LbVf2TudD234"
      },
      "source": [
        "**SUPER DUPER IMPORTANT NOTE** If you run the above cell again, the training will resume from where it stopped the last time! To restart the training with default weights, re-create the model."
      ]
    },
    {
      "cell_type": "markdown",
      "metadata": {
        "id": "uX2N-SpYD234"
      },
      "source": [
        "### Things to play with:\n",
        " - How does the training proceed if the `batch_size` is reduced? How does that impact the accuracy/mae?\n",
        "\n",
        "\n"
      ]
    },
    {
      "cell_type": "markdown",
      "metadata": {
        "id": "x-J5ca-WzZyb"
      },
      "source": [
        "#### Plot training history"
      ]
    },
    {
      "cell_type": "code",
      "execution_count": null,
      "metadata": {
        "id": "HKcHdJXHzZyb"
      },
      "outputs": [],
      "source": [
        "# Load the history into a pandas Dataframe\n",
        "# Very useful to check how training is going\n",
        "\n",
        "df = pd.DataFrame(history.history)\n",
        "df.head()"
      ]
    },
    {
      "cell_type": "code",
      "execution_count": null,
      "metadata": {
        "id": "TTMVU8MRzZyb"
      },
      "outputs": [],
      "source": [
        "# Make a plot for the loss\n",
        "\n",
        "loss_plot = df.plot(y=\"loss\", title = \"Loss vs. Epochs\", legend = False)\n",
        "loss_plot.set(xlabel=\"Epochs\", ylabel=\"Loss\")\n",
        "#loss_plot = df.plot(y=\"loss\", title = \"Loss vs. Epochs\", legend = False)"
      ]
    },
    {
      "cell_type": "code",
      "execution_count": null,
      "metadata": {
        "id": "Uq6To9FKzZyc"
      },
      "outputs": [],
      "source": [
        "# Make a plot for the accuracy\n",
        "acc_plot = df.plot(y=\"accuracy\", title = \"Accuracy vs. Epochs\", legend = False)\n",
        "acc_plot.set(xlabel=\"Epochs\", ylabel=\"Accuracy\")\n"
      ]
    },
    {
      "cell_type": "code",
      "execution_count": null,
      "metadata": {
        "id": "UY-ueOlszZyc"
      },
      "outputs": [],
      "source": [
        "# TODO 7: Make a plot for the additional metric (mae)\n",
        "acc_plot = df.plot(y=\"mae\", title = \"Mae vs. Epochs\", legend = False)\n",
        "acc_plot.set(xlabel=\"Epochs\", ylabel=\"Mae\")\n"
      ]
    },
    {
      "cell_type": "markdown",
      "metadata": {
        "id": "E8tKf2ozzZyc"
      },
      "source": [
        "***\n",
        "<a id=\"coding_tutorial_5\"></a>\n",
        "## The evaluate and predict methods"
      ]
    },
    {
      "cell_type": "code",
      "execution_count": null,
      "metadata": {
        "id": "xE3rfvwFzZyc"
      },
      "outputs": [],
      "source": [
        "import matplotlib.pyplot as plt\n",
        "import numpy as np"
      ]
    },
    {
      "cell_type": "markdown",
      "metadata": {
        "id": "6C98WrGNzZyc"
      },
      "source": [
        "#### Evaluate the model on the test set"
      ]
    },
    {
      "cell_type": "code",
      "execution_count": null,
      "metadata": {
        "id": "KxZFyoKxzZyc"
      },
      "outputs": [],
      "source": [
        "# Evaluate the model\n",
        "test_loss, test_accuracy, test_mae = model.evaluate(test_images, test_labels, verbose=2)\n"
      ]
    },
    {
      "cell_type": "markdown",
      "metadata": {
        "id": "alGhIroNzZyc"
      },
      "source": [
        "#### Make predictions from the model"
      ]
    },
    {
      "cell_type": "code",
      "execution_count": null,
      "metadata": {
        "id": "oIgj9-A_zZyc"
      },
      "outputs": [],
      "source": [
        "# Choose a random test image\n",
        "\n",
        "random_inx = np.random.choice(test_images.shape[0])\n",
        "\n",
        "test_image = test_images[random_inx]\n",
        "plt.imshow(test_image)\n",
        "plt.show()\n",
        "print(f\"Label: {labels[test_labels[random_inx]]}\")"
      ]
    },
    {
      "cell_type": "code",
      "execution_count": null,
      "metadata": {
        "id": "yK_bACAczZyd"
      },
      "outputs": [],
      "source": [
        "# TODO 8: Get the model predictions on the above image\n",
        "pred = #FIX ME\n",
        "print(\"Prediction: \", labels[np.argmax(pred)])"
      ]
    },
    {
      "cell_type": "code",
      "execution_count": null,
      "metadata": {
        "id": "bxr8ZSxKLmkk"
      },
      "outputs": [],
      "source": [
        "# TODO 9: Extend the above code to predict labels for k random test images\n",
        "\n",
        "def get_random_set(k):\n",
        "    '''\n",
        "    Returns a numpy array containing k random images from test_images: shape is (k, 28, 28)\n",
        "    and a numpy array containing corresponding labels from test_labels: shape is (k,)\n",
        "    '''\n",
        "    #Strategy 1: Create an empty numpy array of the correct size and initialize each row to be a random test image\n",
        "    #Strategy 2: Create an empty list, append k random test images. Then convert to numpy array.\n",
        "    #Strategy 3: Construct a numpy array containing k random but unique indices. Slice the test_images and test_labels using these indices.\n",
        "    pass\n",
        "\n"
      ]
    },
    {
      "cell_type": "code",
      "execution_count": null,
      "metadata": {
        "id": "SOpA4Ef8D23_"
      },
      "outputs": [],
      "source": [
        "test_set, test_lab = get_random_set(5)"
      ]
    },
    {
      "cell_type": "code",
      "execution_count": null,
      "metadata": {
        "id": "HN97ETAdNjIH"
      },
      "outputs": [],
      "source": [
        "\n",
        "# Print the shape of the test set and test labels\n",
        "print(test_set.shape)\n",
        "print(test_lab.shape)"
      ]
    },
    {
      "cell_type": "code",
      "execution_count": null,
      "metadata": {
        "id": "qQ1Fo63XNatN"
      },
      "outputs": [],
      "source": [
        "# Get the model predictions for all the random images and compare with ground truth\n",
        "\n",
        "pred = model.predict(test_set)\n",
        "print(pred.shape)\n",
        "for i, elem in enumerate(pred):\n",
        "    print(\"Ground Truth: \", labels[test_lab[i]], end = \";\")\n",
        "    print(\"Prediction: \", labels[np.argmax(elem)])"
      ]
    },
    {
      "cell_type": "code",
      "execution_count": null,
      "metadata": {
        "id": "PvZfgzWwTFOP"
      },
      "outputs": [],
      "source": []
    }
  ],
  "metadata": {
    "colab": {
      "provenance": [],
      "include_colab_link": true
    },
    "kernelspec": {
      "display_name": "Python 3 (ipykernel)",
      "language": "python",
      "name": "python3"
    },
    "language_info": {
      "codemirror_mode": {
        "name": "ipython",
        "version": 3
      },
      "file_extension": ".py",
      "mimetype": "text/x-python",
      "name": "python",
      "nbconvert_exporter": "python",
      "pygments_lexer": "ipython3",
      "version": "3.10.12"
    }
  },
  "nbformat": 4,
  "nbformat_minor": 0
}