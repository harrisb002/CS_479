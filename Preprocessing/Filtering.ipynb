{
  "cells": [
    {
      "cell_type": "markdown",
      "metadata": {
        "id": "view-in-github",
        "colab_type": "text"
      },
      "source": [
        "<a href=\"https://colab.research.google.com/github/harrisb002/CS_479/blob/Project-2/Filtering.ipynb\" target=\"_parent\"><img src=\"https://colab.research.google.com/assets/colab-badge.svg\" alt=\"Open In Colab\"/></a>"
      ]
    },
    {
      "cell_type": "markdown",
      "id": "e1fc9ada",
      "metadata": {
        "id": "e1fc9ada"
      },
      "source": [
        "## Non-linear filters"
      ]
    },
    {
      "cell_type": "code",
      "execution_count": null,
      "id": "94f6e599",
      "metadata": {
        "id": "94f6e599"
      },
      "outputs": [],
      "source": [
        "import scipy\n",
        "import scipy.ndimage as ndi\n",
        "import numpy as np\n",
        "import skimage\n",
        "from skimage import io, filters\n",
        "from skimage import data, img_as_float\n",
        "import matplotlib.pyplot as plt\n",
        "import os\n",
        "import math"
      ]
    },
    {
      "cell_type": "markdown",
      "id": "e31a61da",
      "metadata": {
        "id": "e31a61da"
      },
      "source": [
        "## Removing Gaussian Noise\n",
        "A strategy to remove Gaussian noise is provided below. This is applicable when several images of the same object can be taken such as in astronomy or in microscopy. Due to sensor noise, each image is corrupted by Gaussian noise. In such cases, the algorithm below works well.\n",
        "\n",
        "![Cleaning Gaussian Noise](cleaningGaussianNoise.jpeg)"
      ]
    },
    {
      "cell_type": "markdown",
      "id": "8675bd77",
      "metadata": {
        "deletable": false,
        "editable": false,
        "nbgrader": {
          "cell_type": "markdown",
          "checksum": "5867e7fc6baabc78af612e4f0dbc47c0",
          "grade": false,
          "grade_id": "cell-0e57330cccffa5ac",
          "locked": true,
          "schema_version": 3,
          "solution": false,
          "task": false
        },
        "id": "8675bd77"
      },
      "source": [
        "## Part A (30 points)\n",
        "Apply the algorithm given above to remove Gaussian noise from images in the directory `noisyImages` (already on the current path). It will require you to iterate over all images. Use `glob.glob(dir)` to extract list of `files` in `dir`. To store all images in a numpy array, it may be helpful to extract shape of any one image in the directory to be able to specify the overall size of the numpy array. Don't forget to convert your images to `float`!"
      ]
    },
    {
      "cell_type": "code",
      "execution_count": 5,
      "id": "65fde493",
      "metadata": {
        "deletable": false,
        "nbgrader": {
          "cell_type": "code",
          "checksum": "8381d67560a97076862ae6cd58b03a34",
          "grade": false,
          "grade_id": "cell-69ac70b9df7d2608",
          "locked": false,
          "schema_version": 3,
          "solution": true,
          "task": false
        },
        "id": "65fde493"
      },
      "outputs": [],
      "source": [
        "import glob\n",
        "\n",
        "def removeGaussianNoise(imgDir = 'wfc3_uvis'):\n",
        "\n",
        "    dirname = os.path.join(os.getcwd(),'noisyImages',imgDir)\n",
        "    numfiles = len(glob.glob(dirname + \"/*.png\"))\n",
        "    print(dirname, 'Number of files = ' + str(numfiles), sep = '\\n')\n",
        "\n",
        "\n",
        "    # YOUR CODE HERE\n",
        "    raise NotImplementedError()"
      ]
    },
    {
      "cell_type": "code",
      "execution_count": null,
      "id": "abc70c40",
      "metadata": {
        "id": "abc70c40"
      },
      "outputs": [],
      "source": [
        "from numpy.random import default_rng\n",
        "\n",
        "#Helper function to display some images randomly from the directory imgDir,\n",
        "#along with the clean image obtained by calling removeGaussianNoise\n",
        "def showImages(imgDir, cleanImg):\n",
        "    rng = default_rng()\n",
        "\n",
        "    #Select some images randomly from imgDir and show them along with cleanImg\n",
        "    dirname = os.path.join(os.getcwd(),'noisyImages',imgDir)\n",
        "    numfiles = len(glob.glob(dirname + \"/*.png\"))\n",
        "    files = []\n",
        "    for file in glob.glob(dirname + \"/*.png\"):\n",
        "        files.append(file)\n",
        "\n",
        "    x = rng.choice(numfiles, size=3, replace=False)\n",
        "    print(\"random indices:\", x)\n",
        "    fig, ax = plt.subplots(nrows=2, ncols=2, figsize=(15, 10), sharex = True, sharey = True)\n",
        "    ax = ax.ravel()\n",
        "    for i in range(3):\n",
        "        img = io.imread(files[x[i]])\n",
        "        ax[i].imshow(img)\n",
        "\n",
        "    ax[3].imshow(cleanImg)\n",
        "    plt.tight_layout()\n"
      ]
    },
    {
      "cell_type": "code",
      "execution_count": null,
      "id": "67a3ff09",
      "metadata": {
        "deletable": false,
        "editable": false,
        "nbgrader": {
          "cell_type": "code",
          "checksum": "043c11e52201f17a7706b56a2045edcf",
          "grade": true,
          "grade_id": "cell-29feaa97827ad57d",
          "locked": true,
          "points": 10,
          "schema_version": 3,
          "solution": false,
          "task": false
        },
        "id": "67a3ff09"
      },
      "outputs": [],
      "source": [
        "imgDir = 'wfc3_uvis'\n",
        "cleanImg = removeGaussianNoise(imgDir)\n",
        "showImages(imgDir, cleanImg)\n",
        "\n",
        "assert cleanImg.shape[0] == 346\n",
        "assert math.isclose(cleanImg.mean(), 0.25733878625)\n",
        "\n",
        "print(\"Success!\")"
      ]
    },
    {
      "cell_type": "code",
      "execution_count": null,
      "id": "a27ac94c",
      "metadata": {
        "deletable": false,
        "editable": false,
        "nbgrader": {
          "cell_type": "code",
          "checksum": "1b84c90d09171a693d6c75623d8a49d9",
          "grade": true,
          "grade_id": "cell-994472389df1d9df",
          "locked": true,
          "points": 10,
          "schema_version": 3,
          "solution": false,
          "task": false
        },
        "id": "a27ac94c"
      },
      "outputs": [],
      "source": [
        "imgDir = 'orion'\n",
        "cleanImg = removeGaussianNoise(imgDir)\n",
        "\n",
        "showImages(imgDir, cleanImg)\n",
        "\n",
        "assert cleanImg.shape[0] == 600\n",
        "assert math.isclose(cleanImg.mean(), 0.23500850036)\n",
        "\n",
        "print(\"Success!\")"
      ]
    },
    {
      "cell_type": "code",
      "execution_count": null,
      "id": "14c13bb2",
      "metadata": {
        "id": "14c13bb2"
      },
      "outputs": [],
      "source": [
        "imgDir = 'n44f'\n",
        "cleanImg = removeGaussianNoise(imgDir)\n",
        "\n",
        "showImages(imgDir, cleanImg)\n",
        "print(cleanImg.mean())\n",
        "assert cleanImg.shape[0] == 339\n",
        "assert math.isclose(cleanImg.mean(), 0.2849458358)\n",
        "\n",
        "print(\"Success!\")"
      ]
    },
    {
      "cell_type": "markdown",
      "id": "b2a2999d",
      "metadata": {
        "deletable": false,
        "editable": false,
        "nbgrader": {
          "cell_type": "markdown",
          "checksum": "166012c8e483268cca8ad771087e300e",
          "grade": false,
          "grade_id": "cell-4fa3f03c7f4f9717",
          "locked": true,
          "schema_version": 3,
          "solution": false,
          "task": false
        },
        "id": "b2a2999d"
      },
      "source": [
        "## Part C (20 points)\n",
        "\n",
        "Check out the description of the problem of Pesky Tourist [here](http://nifty.stanford.edu/2014/nicholson-the-pesky-tourist/student.html). You may see the images in the directory `ThePeskyTourist` provided as a part of this project. Your task is to remove the Pesky Tourist from the images! Ghostly tourist is not acceptable :) The algorithm is very similar to above (that removes Gaussian noise) but taking a median instead of taking an average.\n",
        "\n",
        "**Note**: do NOT change the location of the directory `ThePeskyTourist` relative to this notebook. Otherwise the autograder will call foul."
      ]
    },
    {
      "cell_type": "code",
      "execution_count": null,
      "id": "87fc1a85",
      "metadata": {
        "deletable": false,
        "nbgrader": {
          "cell_type": "code",
          "checksum": "e832d1ed114c35adb69f2c4958ba3067",
          "grade": false,
          "grade_id": "cell-a2ae3a8b94bc5603",
          "locked": false,
          "schema_version": 3,
          "solution": true,
          "task": false
        },
        "id": "87fc1a85"
      },
      "outputs": [],
      "source": [
        "def removePeskyTourist():\n",
        "\n",
        "    # YOUR CODE HERE\n",
        "    raise NotImplementedError()"
      ]
    },
    {
      "cell_type": "markdown",
      "id": "5c03e0ec",
      "metadata": {
        "id": "5c03e0ec"
      },
      "source": [
        "Let us visualize some random images of the tourist along with the cleaned version"
      ]
    },
    {
      "cell_type": "code",
      "execution_count": null,
      "id": "f5ff8e50",
      "metadata": {
        "id": "f5ff8e50"
      },
      "outputs": [],
      "source": [
        "from numpy.random import default_rng\n",
        "\n",
        "rng = default_rng()\n",
        "\n",
        "#Find the clean version\n",
        "cleanImg = removePeskyTourist()\n",
        "\n",
        "#Select some images randomly from imgDir and show them along with cleanImg\n",
        "dirname = os.path.join(os.getcwd(),'ThePeskyTourist')\n",
        "numfiles = len(glob.glob(dirname + \"/*.png\"))\n",
        "files = []\n",
        "for file in glob.glob(dirname + \"/*.png\"):\n",
        "    files.append(file)\n",
        "\n",
        "x = rng.choice(numfiles, size=3, replace=False)\n",
        "print(x)\n",
        "fig, ax = plt.subplots(nrows=2, ncols=2, figsize=(15, 10), sharex = True, sharey = True)\n",
        "ax = ax.ravel()\n",
        "for i in range(3):\n",
        "    img = io.imread(files[x[i]])\n",
        "    ax[i].imshow(img)\n",
        "\n",
        "ax[3].imshow(cleanImg)\n",
        "plt.tight_layout()\n"
      ]
    },
    {
      "cell_type": "code",
      "execution_count": null,
      "id": "5e154f79",
      "metadata": {
        "deletable": false,
        "editable": false,
        "nbgrader": {
          "cell_type": "code",
          "checksum": "6ff3d60ac9b1ddf5827ee41487706436",
          "grade": true,
          "grade_id": "cell-0206042a9e5412e4",
          "locked": true,
          "points": 20,
          "schema_version": 3,
          "solution": false,
          "task": false
        },
        "id": "5e154f79"
      },
      "outputs": [],
      "source": [
        "cleanImg = removePeskyTourist()\n",
        "\n",
        "assert cleanImg.shape[0] == 557\n",
        "assert math.isclose(cleanImg.mean(), 0.52157602355)\n",
        "\n",
        "print(\"Success!\")\n",
        "\n"
      ]
    },
    {
      "cell_type": "markdown",
      "id": "c7576048",
      "metadata": {
        "id": "c7576048"
      },
      "source": [
        "## Part C: Coin Challenge (DEMO ONLY)\n",
        "\n",
        "Load the coin image. Create a binary image (mask) by thresholding using Otsu Threshold. Process the mask below using morphological operations to label the 24 coins separately. Your code must show there are exactly 24 labels (using region properties). It is not necessary to create the binary image using Otsu Threshold. As long as you are able to segment the 24 coins faithfully, you will get full credit.\n",
        "\n",
        "Example output:\n",
        "\n",
        "![output](coins_challenge.png)"
      ]
    },
    {
      "cell_type": "code",
      "execution_count": null,
      "id": "8bc599b9",
      "metadata": {
        "deletable": false,
        "nbgrader": {
          "cell_type": "code",
          "checksum": "2e05af53b5e11e33910714b313a0b56c",
          "grade": true,
          "grade_id": "cell-db60165f5e2391e4",
          "locked": false,
          "points": 20,
          "schema_version": 3,
          "solution": true,
          "task": false
        },
        "id": "8bc599b9"
      },
      "outputs": [],
      "source": [
        "# YOUR CODE HERE\n",
        "raise NotImplementedError()"
      ]
    }
  ],
  "metadata": {
    "kernelspec": {
      "display_name": "Python 3 (ipykernel)",
      "language": "python",
      "name": "python3"
    },
    "language_info": {
      "codemirror_mode": {
        "name": "ipython",
        "version": 3
      },
      "file_extension": ".py",
      "mimetype": "text/x-python",
      "name": "python",
      "nbconvert_exporter": "python",
      "pygments_lexer": "ipython3",
      "version": "3.10.12"
    },
    "colab": {
      "provenance": [],
      "include_colab_link": true
    }
  },
  "nbformat": 4,
  "nbformat_minor": 5
}